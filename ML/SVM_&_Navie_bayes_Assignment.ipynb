{
  "nbformat": 4,
  "nbformat_minor": 0,
  "metadata": {
    "colab": {
      "provenance": []
    },
    "kernelspec": {
      "name": "python3",
      "display_name": "Python 3"
    },
    "language_info": {
      "name": "python"
    }
  },
  "cells": [
    {
      "cell_type": "markdown",
      "source": [
        "#**Assignment : SVM & Navie bayes**"
      ],
      "metadata": {
        "id": "guLHURY7yg07"
      }
    },
    {
      "cell_type": "markdown",
      "source": [
        "##**Theory Question Answer**"
      ],
      "metadata": {
        "id": "r2B-Fy7Ryg-C"
      }
    },
    {
      "cell_type": "markdown",
      "source": [
        "### Q1: What is a Support Vector Machine (SVM)?\n",
        "\n",
        "Support Vector Machine (SVM) is a supervised machine learning algorithm used for classification and regression.  \n",
        "It works by finding the optimal hyperplane that best separates data points of different classes with the maximum margin.\n"
      ],
      "metadata": {
        "id": "GjZaaRTcy1NF"
      }
    },
    {
      "cell_type": "markdown",
      "source": [
        "### Q2: What is the difference between Hard Margin and Soft Margin SVM?\n",
        "\n",
        "- **Hard Margin SVM**: Assumes data is linearly separable, no misclassification is allowed. Very strict.  \n",
        "- **Soft Margin SVM**: Allows some misclassification using a penalty parameter (C). Works better with noisy and non-separable data.\n"
      ],
      "metadata": {
        "id": "bKAl-ueXy1Jn"
      }
    },
    {
      "cell_type": "markdown",
      "source": [
        "### Q3: What is the mathematical intuition behind SVM?\n",
        "\n",
        "The intuition is to maximize the margin between classes while minimizing classification errors. Mathematically, SVM solves an optimization problem:\n",
        "\n",
        "- min 1/2 ||w||^2\n",
        "\n",
        " subject to  \n",
        "- y_i(w* x_i + b) >= 1\n",
        "\n",
        "Here, \\(w\\) is the weight vector, \\(b\\) is the bias, and \\(y_i\\) are class labels. Maximizing the margin reduces overfitting and improves generalization.\n"
      ],
      "metadata": {
        "id": "ZzKL7n97y1G7"
      }
    },
    {
      "cell_type": "markdown",
      "source": [
        "### Q4: What is the role of Lagrange Multipliers in SVM?\n",
        "\n",
        "Lagrange multipliers are used to convert the constrained optimization problem of SVM into an unconstrained one (dual problem).  \n",
        "They help enforce constraints while maximizing the margin and identify support vectors (points with non-zero multipliers).\n"
      ],
      "metadata": {
        "id": "M35bR0q3y1Bi"
      }
    },
    {
      "cell_type": "markdown",
      "source": [
        "### Q5: What are Support Vectors in SVM?\n",
        "\n",
        "Support Vectors are the data points that lie closest to the decision boundary (hyperplane).  \n",
        "They are critical because they define the position and orientation of the hyperplane.  \n",
        "If you remove them, the decision boundary would change.\n",
        "\n"
      ],
      "metadata": {
        "id": "0FdqgUGSy0_E"
      }
    },
    {
      "cell_type": "markdown",
      "source": [
        "### Q6: What is a Support Vector Classifier (SVC)?\n",
        "\n",
        "A Support Vector Classifier (SVC) is the classification implementation of SVM.  \n",
        "It tries to find the best hyperplane that separates classes with the maximum margin.  \n",
        "In scikit-learn, `SVC` is the commonly used class for SVM classification tasks.\n"
      ],
      "metadata": {
        "id": "Zxbj_poYy08f"
      }
    },
    {
      "cell_type": "markdown",
      "source": [
        "### Q7: What is a Support Vector Regressor (SVR)?\n",
        "\n",
        "Support Vector Regressor (SVR) is the regression version of SVM.  \n",
        "Instead of maximizing the margin between classes, SVR tries to fit the best line (or hyperplane) within a tolerance margin (epsilon).  \n",
        "It ignores small errors but penalizes large deviations.\n"
      ],
      "metadata": {
        "id": "3Bg_DFSqy057"
      }
    },
    {
      "cell_type": "markdown",
      "source": [
        "### Q8: What is the Kernel Trick in SVM?\n",
        "\n",
        "The Kernel Trick allows SVM to solve non-linear classification problems.  \n",
        "It maps input features into a higher-dimensional space without explicitly computing the transformation.  \n",
        "This makes it possible to separate classes that are not linearly separable in the original space.\n"
      ],
      "metadata": {
        "id": "KbLzsZmry03O"
      }
    },
    {
      "cell_type": "markdown",
      "source": [
        "### Q9: Compare Linear Kernel, Polynomial Kernel, and RBF Kernel\n",
        "\n",
        "- **Linear Kernel**: Works well when data is linearly separable. Simple and fast.  \n",
        "- **Polynomial Kernel**: Captures polynomial relationships between features. Flexible but can be computationally expensive.  \n",
        "- **RBF Kernel (Gaussian)**: Most popular; captures complex non-linear relations. Works well in most cases.\n"
      ],
      "metadata": {
        "id": "7kuZtg9Sy00Z"
      }
    },
    {
      "cell_type": "markdown",
      "source": [
        "### Q10: What is the effect of the C parameter in SVM?\n",
        "\n",
        "- **Small C**: Allows more misclassification, larger margin → simpler model, less overfitting.  \n",
        "- **Large C**: Penalizes misclassification heavily, smaller margin → complex model, risk of overfitting.  \n",
        "C controls the trade-off between margin width and classification accuracy.\n"
      ],
      "metadata": {
        "id": "A_MXFgb6y0xD"
      }
    },
    {
      "cell_type": "markdown",
      "source": [
        "### Q11: What is the role of the Gamma parameter in RBF Kernel SVM?\n",
        "\n",
        "- **Low Gamma**: Points far apart still influence each other → smoother decision boundary.  \n",
        "- **High Gamma**: Influence of each point is very local → complex boundary, risk of overfitting.  \n",
        "Gamma defines how far the influence of a single training example reaches.\n"
      ],
      "metadata": {
        "id": "lptmbobj0m9i"
      }
    },
    {
      "cell_type": "markdown",
      "source": [
        "### Q12: What is the Naïve Bayes classifier, and why is it called \"Naïve\"?\n",
        "\n",
        "Naïve Bayes is a probabilistic classifier based on Bayes’ Theorem.  \n",
        "It assumes features are conditionally independent given the class label.  \n",
        "It is called \"Naïve\" because in reality, features are rarely completely independent, but the assumption simplifies computation and works surprisingly well.\n"
      ],
      "metadata": {
        "id": "WtNxpW2-0ovL"
      }
    },
    {
      "cell_type": "markdown",
      "source": [
        "### Q12: What is the Naïve Bayes classifier, and why is it called \"Naïve\"?\n",
        "\n",
        "Naïve Bayes is a probabilistic classifier based on Bayes’ Theorem.  \n",
        "It assumes features are conditionally independent given the class label.  \n",
        "It is called \"Naïve\" because in reality, features are rarely completely independent, but the assumption simplifies computation and works surprisingly well.\n"
      ],
      "metadata": {
        "id": "60DfigRT0qaF"
      }
    },
    {
      "cell_type": "markdown",
      "source": [
        "### Q13: What is Bayes’ Theorem?\n",
        "\n",
        "P(A|B) = {P(B|A) * P(A)} / P(B)\n",
        "\n",
        "- **P(A|B)**: Probability of event A given B (posterior).  \n",
        "- **P(B|A)**: Probability of event B given A (likelihood).  \n",
        "- **P(A)**: Prior probability of A.  \n",
        "- **P(B)**: Total probability of B.\n"
      ],
      "metadata": {
        "id": "eQiPog2I0vWw"
      }
    },
    {
      "cell_type": "markdown",
      "source": [
        "### Q14: Explain the differences between Gaussian Naïve Bayes, Multinomial Naïve Bayes, and Bernoulli Naïve Bayes\n",
        "\n",
        "- **Gaussian NB**: Assumes features follow a normal (Gaussian) distribution. Used for continuous data.  \n",
        "- **Multinomial NB**: Assumes features represent counts/frequencies (e.g., word counts). Used in text classification.  \n",
        "- **Bernoulli NB**: Assumes binary features (0/1, present/absent). Used in document classification with binary word presence.\n"
      ],
      "metadata": {
        "id": "ABK7N7Zr06yi"
      }
    },
    {
      "cell_type": "markdown",
      "source": [
        "### Q15: When should you use Gaussian Naïve Bayes over other variants?\n",
        "\n",
        "Use **Gaussian NB** when features are continuous and approximately normally distributed.  \n",
        "Examples: sensor data, medical measurements, continuous numerical attributes.\n"
      ],
      "metadata": {
        "id": "CjLlXRBS09OM"
      }
    },
    {
      "cell_type": "markdown",
      "source": [
        "### Q16: What are the key assumptions made by Naïve Bayes?\n",
        "- All features are **conditionally independent** given the class label.  \n",
        "- Each feature contributes equally and independently to the probability of a class.  \n",
        "- No correlation between features is assumed.  \n"
      ],
      "metadata": {
        "id": "mQOY0ctd3vMF"
      }
    },
    {
      "cell_type": "markdown",
      "source": [
        "### Q17: What are the advantages and disadvantages of Naïve Bayes?\n",
        "**Advantages:**  \n",
        "- Simple, fast, and works well with small datasets.  \n",
        "- Performs well in text classification problems.  \n",
        "- Handles both continuous and categorical data.  \n",
        "\n",
        "**Disadvantages:**  \n",
        "- Assumption of independence is unrealistic in many real-world datasets.  \n",
        "- If a categorical variable has a category not seen in training, probability becomes zero (needs smoothing).  \n",
        "- Can be less accurate compared to more complex models.  \n"
      ],
      "metadata": {
        "id": "aofatq543wMM"
      }
    },
    {
      "cell_type": "markdown",
      "source": [
        "### Q18: Why is Naïve Bayes a good choice for text classification?\n",
        "- Text data often has a very high-dimensional feature space (many words).  \n",
        "- Independence assumption works reasonably well in bag-of-words models.  \n",
        "- Fast training and prediction even with large vocabularies.  \n",
        "- Performs surprisingly well in spam filtering, sentiment analysis, etc.  \n"
      ],
      "metadata": {
        "id": "fE31smx03yJM"
      }
    },
    {
      "cell_type": "markdown",
      "source": [
        "### Q19: Compare SVM and Naïve Bayes for classification tasks\n",
        "- **SVM**:  \n",
        "  - Finds the best hyperplane to separate classes.  \n",
        "  - Works well for high-dimensional but structured data.  \n",
        "  - Computationally expensive for large datasets.  \n",
        "\n",
        "- **Naïve Bayes**:  \n",
        "  - Based on probability and Bayes theorem.  \n",
        "  - Works very well for text classification.  \n",
        "  - Simpler, faster, but less accurate if features are correlated.  \n"
      ],
      "metadata": {
        "id": "95aXjeDz3zwH"
      }
    },
    {
      "cell_type": "markdown",
      "source": [
        "### Q20: How does Laplace Smoothing help in Naïve Bayes?\n",
        "- Prevents zero probability problem when a word/feature doesn’t appear in training data.  \n",
        "- Adds a small constant (e.g., +1) to frequency counts.  \n",
        "- Ensures that unseen words still get a small non-zero probability.  \n"
      ],
      "metadata": {
        "id": "IxmMscl9317U"
      }
    },
    {
      "cell_type": "markdown",
      "source": [
        "##**Practical Question Answer**"
      ],
      "metadata": {
        "id": "7FJvuh_664Q-"
      }
    },
    {
      "cell_type": "markdown",
      "source": [
        "### Q21: Write a Python program to train an SVM Classifier on the Iris dataset and evaluate accuracy\n"
      ],
      "metadata": {
        "id": "yrbkupsq7-bb"
      }
    },
    {
      "cell_type": "code",
      "source": [
        "import numpy as np\n",
        "import pandas as pd\n",
        "import matplotlib.pyplot as plt\n",
        "import seaborn as sns\n",
        "import warnings\n",
        "warnings.filterwarnings(\"ignore\")\n",
        "\n",
        "from sklearn import datasets\n",
        "from sklearn.model_selection import train_test_split\n",
        "from sklearn.svm import SVC\n",
        "from sklearn.metrics import accuracy_score\n",
        "\n",
        "# Load Iris dataset\n",
        "iris = datasets.load_iris()\n",
        "X = iris.data\n",
        "y = iris.target\n",
        "\n",
        "# Split dataset\n",
        "X_train, X_test, y_train, y_test = train_test_split(X, y, test_size=0.3, random_state=42)\n",
        "\n",
        "# Train SVM classifier\n",
        "svm = SVC(kernel='linear')\n",
        "svm.fit(X_train, y_train)\n",
        "\n",
        "# Predict and evaluate\n",
        "y_pred = svm.predict(X_test)\n",
        "print(\"Accuracy on Iris dataset:\", accuracy_score(y_test, y_pred))\n"
      ],
      "metadata": {
        "colab": {
          "base_uri": "https://localhost:8080/"
        },
        "id": "SepR9o3S8IrA",
        "outputId": "c0cc88e8-42c5-408b-cc14-10813b7ce8de"
      },
      "execution_count": 3,
      "outputs": [
        {
          "output_type": "stream",
          "name": "stdout",
          "text": [
            "Accuracy on Iris dataset: 1.0\n"
          ]
        }
      ]
    },
    {
      "cell_type": "markdown",
      "source": [
        "### Q22: Train SVM classifiers with Linear and RBF kernels on the Wine dataset and compare accuracies"
      ],
      "metadata": {
        "id": "NmJ0AzkC8UsN"
      }
    },
    {
      "cell_type": "code",
      "source": [
        "\n",
        "\n",
        "import numpy as np\n",
        "import pandas as pd\n",
        "import warnings\n",
        "warnings.filterwarnings(\"ignore\")\n",
        "\n",
        "from sklearn import datasets\n",
        "from sklearn.model_selection import train_test_split\n",
        "from sklearn.svm import SVC\n",
        "from sklearn.metrics import accuracy_score\n",
        "\n",
        "# Load Wine dataset\n",
        "wine = datasets.load_wine()\n",
        "X = wine.data\n",
        "y = wine.target\n",
        "\n",
        "# Split dataset\n",
        "X_train, X_test, y_train, y_test = train_test_split(X, y, test_size=0.3, random_state=42)\n",
        "\n",
        "# Linear kernel\n",
        "svm_linear = SVC(kernel='linear')\n",
        "svm_linear.fit(X_train, y_train)\n",
        "y_pred_linear = svm_linear.predict(X_test)\n",
        "\n",
        "# RBF kernel\n",
        "svm_rbf = SVC(kernel='rbf')\n",
        "svm_rbf.fit(X_train, y_train)\n",
        "y_pred_rbf = svm_rbf.predict(X_test)\n",
        "\n",
        "# Print accuracies\n",
        "print(\"Linear Kernel Accuracy:\", accuracy_score(y_test, y_pred_linear))\n",
        "print(\"RBF Kernel Accuracy:\", accuracy_score(y_test, y_pred_rbf))\n"
      ],
      "metadata": {
        "colab": {
          "base_uri": "https://localhost:8080/"
        },
        "id": "uHy0MJwo8OXP",
        "outputId": "52c694c1-8ae6-40e1-e16d-0a1ff1a2e33e"
      },
      "execution_count": 4,
      "outputs": [
        {
          "output_type": "stream",
          "name": "stdout",
          "text": [
            "Linear Kernel Accuracy: 0.9814814814814815\n",
            "RBF Kernel Accuracy: 0.7592592592592593\n"
          ]
        }
      ]
    },
    {
      "cell_type": "markdown",
      "source": [
        "### Q23: Train an SVM Regressor (SVR) on the California Housing dataset and evaluate with MSE\n",
        "\n"
      ],
      "metadata": {
        "id": "FB8TnrOP8XCS"
      }
    },
    {
      "cell_type": "code",
      "source": [
        "import numpy as np\n",
        "import pandas as pd\n",
        "import warnings\n",
        "warnings.filterwarnings(\"ignore\")\n",
        "\n",
        "from sklearn.datasets import fetch_california_housing\n",
        "from sklearn.model_selection import train_test_split\n",
        "from sklearn.svm import SVR\n",
        "from sklearn.metrics import mean_squared_error\n",
        "\n",
        "# Load housing dataset\n",
        "housing = fetch_california_housing()\n",
        "X = housing.data\n",
        "y = housing.target\n",
        "\n",
        "# Split dataset\n",
        "X_train, X_test, y_train, y_test = train_test_split(X, y, test_size=0.3, random_state=42)\n",
        "\n",
        "# Train SVR model\n",
        "svr = SVR(kernel='rbf')\n",
        "svr.fit(X_train, y_train)\n",
        "\n",
        "# Predict and evaluate\n",
        "y_pred = svr.predict(X_test)\n",
        "print(\"Mean Squared Error:\", mean_squared_error(y_test, y_pred))\n"
      ],
      "metadata": {
        "colab": {
          "base_uri": "https://localhost:8080/"
        },
        "id": "zj9jpUHs8bed",
        "outputId": "785b59c4-9749-4944-980b-a14f121cc969"
      },
      "execution_count": 5,
      "outputs": [
        {
          "output_type": "stream",
          "name": "stdout",
          "text": [
            "Mean Squared Error: 1.3489971413208723\n"
          ]
        }
      ]
    },
    {
      "cell_type": "markdown",
      "source": [
        "### Q24: Train an SVM Classifier with a Polynomial Kernel and visualize decision boundary"
      ],
      "metadata": {
        "id": "eNCab4Cv8a2_"
      }
    },
    {
      "cell_type": "code",
      "source": [
        "import numpy as np\n",
        "import matplotlib.pyplot as plt\n",
        "import warnings\n",
        "warnings.filterwarnings(\"ignore\")\n",
        "\n",
        "from sklearn.datasets import make_classification\n",
        "from sklearn.svm import SVC\n",
        "\n",
        "# Create synthetic dataset\n",
        "X, y = make_classification(n_features=2, n_redundant=0, n_informative=2,\n",
        "                           n_clusters_per_class=1, random_state=42)\n",
        "\n",
        "# Train SVM with polynomial kernel\n",
        "svm_poly = SVC(kernel='poly', degree=3)\n",
        "svm_poly.fit(X, y)\n",
        "\n",
        "# Plot decision boundary\n",
        "plt.figure(figsize=(8,6))\n",
        "x_min, x_max = X[:, 0].min() - 1, X[:, 0].max() + 1\n",
        "y_min, y_max = X[:, 1].min() - 1, X[:, 1].max() + 1\n",
        "xx, yy = np.meshgrid(np.linspace(x_min, x_max, 200),\n",
        "                     np.linspace(y_min, y_max, 200))\n",
        "\n",
        "Z = svm_poly.predict(np.c_[xx.ravel(), yy.ravel()])\n",
        "Z = Z.reshape(xx.shape)\n",
        "\n",
        "plt.contourf(xx, yy, Z, alpha=0.3)\n",
        "plt.scatter(X[:,0], X[:,1], c=y, edgecolors='k', marker='o')\n",
        "plt.title(\"SVM with Polynomial Kernel\")\n",
        "plt.show()\n"
      ],
      "metadata": {
        "colab": {
          "base_uri": "https://localhost:8080/",
          "height": 545
        },
        "id": "Yp3F8vz28gqE",
        "outputId": "abdf4282-c9d6-49ec-9148-00e2567ba5db"
      },
      "execution_count": 6,
      "outputs": [
        {
          "output_type": "display_data",
          "data": {
            "text/plain": [
              "<Figure size 800x600 with 1 Axes>"
            ],
            "image/png": "[encoded data removed]"
          },
          "metadata": {}
        }
      ]
    },
    {
      "cell_type": "markdown",
      "source": [
        "### Q25: Train a Gaussian Naïve Bayes classifier on the Breast Cancer dataset and evaluate accuracy.\n"
      ],
      "metadata": {
        "id": "0q9Li_mI8mkI"
      }
    },
    {
      "cell_type": "code",
      "source": [
        "import numpy as np\n",
        "import pandas as pd\n",
        "import warnings\n",
        "warnings.filterwarnings(\"ignore\")\n",
        "\n",
        "from sklearn.datasets import load_breast_cancer\n",
        "from sklearn.model_selection import train_test_split\n",
        "from sklearn.naive_bayes import GaussianNB\n",
        "from sklearn.metrics import accuracy_score\n",
        "\n",
        "# Load dataset\n",
        "cancer = load_breast_cancer()\n",
        "X = cancer.data\n",
        "y = cancer.target\n",
        "\n",
        "# Split dataset\n",
        "X_train, X_test, y_train, y_test = train_test_split(X, y, test_size=0.3, random_state=42)\n",
        "\n",
        "# Train Gaussian Naive Bayes\n",
        "gnb = GaussianNB()\n",
        "gnb.fit(X_train, y_train)\n",
        "\n",
        "# Predict and evaluate\n",
        "y_pred = gnb.predict(X_test)\n",
        "print(\"Accuracy on Breast Cancer dataset:\", accuracy_score(y_test, y_pred))"
      ],
      "metadata": {
        "colab": {
          "base_uri": "https://localhost:8080/"
        },
        "id": "HbW1QEnE8ppY",
        "outputId": "f3bf9881-bb6a-43c4-8ea1-6d36c07c1801"
      },
      "execution_count": 7,
      "outputs": [
        {
          "output_type": "stream",
          "name": "stdout",
          "text": [
            "Accuracy on Breast Cancer dataset: 0.9415204678362573\n"
          ]
        }
      ]
    },
    {
      "cell_type": "markdown",
      "source": [
        "###Q26: Train a Multinomial Naïve Bayes classifier for text classification using the 20 Newsgroups dataset"
      ],
      "metadata": {
        "id": "-OQDMiC78vAp"
      }
    },
    {
      "cell_type": "code",
      "source": [
        "import numpy as np\n",
        "import pandas as pd\n",
        "import warnings\n",
        "warnings.filterwarnings(\"ignore\")\n",
        "\n",
        "from sklearn.datasets import fetch_20newsgroups\n",
        "from sklearn.feature_extraction.text import CountVectorizer\n",
        "from sklearn.naive_bayes import MultinomialNB\n",
        "from sklearn.metrics import accuracy_score\n",
        "from sklearn.model_selection import train_test_split\n",
        "\n",
        "# Load dataset\n",
        "newsgroups = fetch_20newsgroups(subset='all')\n",
        "X = newsgroups.data\n",
        "y = newsgroups.target\n",
        "\n",
        "# Convert text to features\n",
        "vectorizer = CountVectorizer(stop_words='english')\n",
        "X_vectorized = vectorizer.fit_transform(X)\n",
        "\n",
        "# Split dataset\n",
        "X_train, X_test, y_train, y_test = train_test_split(X_vectorized, y, test_size=0.3, random_state=42)\n",
        "\n",
        "# Train Multinomial Naive Bayes\n",
        "mnb = MultinomialNB()\n",
        "mnb.fit(X_train, y_train)\n",
        "\n",
        "# Predict and evaluate\n",
        "y_pred = mnb.predict(X_test)\n",
        "print(\"Accuracy on 20 Newsgroups dataset:\", accuracy_score(y_test, y_pred))\n"
      ],
      "metadata": {
        "colab": {
          "base_uri": "https://localhost:8080/"
        },
        "id": "nWcqbPCS86Xi",
        "outputId": "6619de48-1bfa-4fb8-de46-fc477dbae06c"
      },
      "execution_count": 9,
      "outputs": [
        {
          "output_type": "stream",
          "name": "stdout",
          "text": [
            "Accuracy on 20 Newsgroups dataset: 0.8749557835160948\n"
          ]
        }
      ]
    },
    {
      "cell_type": "markdown",
      "source": [
        "### Q27: Write a Python program to train an SVM Classifier with different C values and compare the decision boundaries visually\n"
      ],
      "metadata": {
        "id": "3PRpuzrv9Pno"
      }
    },
    {
      "cell_type": "code",
      "source": [
        "import numpy as np\n",
        "import matplotlib.pyplot as plt\n",
        "from sklearn import datasets\n",
        "from sklearn.svm import SVC\n",
        "from sklearn.preprocessing import StandardScaler\n",
        "from sklearn.model_selection import train_test_split\n",
        "\n",
        "# Load dataset\n",
        "X, y = datasets.make_classification(n_features=2, n_redundant=0, n_informative=2,\n",
        "                                    n_clusters_per_class=1, random_state=42)\n",
        "\n",
        "X_train, X_test, y_train, y_test = train_test_split(X, y, test_size=0.3, random_state=42)\n",
        "\n",
        "scaler = StandardScaler()\n",
        "X_train = scaler.fit_transform(X_train)\n",
        "X_test = scaler.transform(X_test)\n",
        "\n",
        "C_values = [0.1, 1, 10]\n",
        "plt.figure(figsize=(15, 5))\n",
        "\n",
        "for i, C in enumerate(C_values, 1):\n",
        "    model = SVC(C=C, kernel='linear')\n",
        "    model.fit(X_train, y_train)\n",
        "\n",
        "    # Plot decision boundary\n",
        "    ax = plt.subplot(1, 3, i)\n",
        "    plt.scatter(X_train[:, 0], X_train[:, 1], c=y_train, cmap=plt.cm.coolwarm)\n",
        "    x_min, x_max = X_train[:, 0].min() - 1, X_train[:, 0].max() + 1\n",
        "    y_min, y_max = X_train[:, 1].min() - 1, X_train[:, 1].max() + 1\n",
        "    xx, yy = np.meshgrid(np.linspace(x_min, x_max, 100), np.linspace(y_min, y_max, 100))\n",
        "    Z = model.predict(np.c_[xx.ravel(), yy.ravel()])\n",
        "    Z = Z.reshape(xx.shape)\n",
        "    plt.contourf(xx, yy, Z, alpha=0.3, cmap=plt.cm.coolwarm)\n",
        "    plt.title(f\"SVM with C={C}\")\n",
        "\n",
        "plt.show()\n"
      ],
      "metadata": {
        "colab": {
          "base_uri": "https://localhost:8080/",
          "height": 468
        },
        "id": "wiYasTsn8zEx",
        "outputId": "5a32f832-fc7d-4b9a-ea19-d9e4fc60e5d8"
      },
      "execution_count": 10,
      "outputs": [
        {
          "output_type": "display_data",
          "data": {
            "text/plain": [
              "<Figure size 1500x500 with 3 Axes>"
            ],
            "image/png": "[encoded data removed]"
          },
          "metadata": {}
        }
      ]
    },
    {
      "cell_type": "markdown",
      "source": [
        "### Q28: Write a Python program to train a Bernoulli Naïve Bayes classifier for binary classification on a dataset with binary features\n"
      ],
      "metadata": {
        "id": "9tRletIG8x7T"
      }
    },
    {
      "cell_type": "code",
      "source": [
        "import numpy as np\n",
        "from sklearn.datasets import make_classification\n",
        "from sklearn.naive_bayes import BernoulliNB\n",
        "from sklearn.model_selection import train_test_split\n",
        "from sklearn.metrics import accuracy_score\n",
        "\n",
        "# Generate binary dataset\n",
        "X, y = make_classification(n_samples=1000, n_features=10, n_informative=5, random_state=42)\n",
        "X = (X > 0).astype(int)  # Convert features to binary\n",
        "\n",
        "X_train, X_test, y_train, y_test = train_test_split(X, y, test_size=0.3, random_state=42)\n",
        "\n",
        "model = BernoulliNB()\n",
        "model.fit(X_train, y_train)\n",
        "y_pred = model.predict(X_test)\n",
        "\n",
        "print(\"Accuracy:\", accuracy_score(y_test, y_pred))\n"
      ],
      "metadata": {
        "colab": {
          "base_uri": "https://localhost:8080/"
        },
        "id": "S6711qyO8QiQ",
        "outputId": "7d021dae-1749-4f90-de4c-c41b20e420af"
      },
      "execution_count": 11,
      "outputs": [
        {
          "output_type": "stream",
          "name": "stdout",
          "text": [
            "Accuracy: 0.76\n"
          ]
        }
      ]
    },
    {
      "cell_type": "markdown",
      "source": [
        "### Q29: Write a Python program to apply feature scaling before training an SVM model and compare results with unscaled data\n"
      ],
      "metadata": {
        "id": "9ydSPVec9ZKh"
      }
    },
    {
      "cell_type": "code",
      "source": [
        "from sklearn.svm import SVC\n",
        "from sklearn.preprocessing import StandardScaler\n",
        "from sklearn.metrics import accuracy_score\n",
        "\n",
        "# Load dataset\n",
        "X, y = datasets.load_wine(return_X_y=True)\n",
        "\n",
        "X_train, X_test, y_train, y_test = train_test_split(X, y, test_size=0.3, random_state=42)\n",
        "\n",
        "# Without scaling\n",
        "model_unscaled = SVC(kernel='rbf')\n",
        "model_unscaled.fit(X_train, y_train)\n",
        "acc_unscaled = accuracy_score(y_test, model_unscaled.predict(X_test))\n",
        "\n",
        "# With scaling\n",
        "scaler = StandardScaler()\n",
        "X_train_scaled = scaler.fit_transform(X_train)\n",
        "X_test_scaled = scaler.transform(X_test)\n",
        "\n",
        "model_scaled = SVC(kernel='rbf')\n",
        "model_scaled.fit(X_train_scaled, y_train)\n",
        "acc_scaled = accuracy_score(y_test, model_scaled.predict(X_test))\n",
        "\n",
        "print(\"Accuracy without scaling:\", acc_unscaled)\n",
        "print(\"Accuracy with scaling:\", acc_scaled)\n"
      ],
      "metadata": {
        "colab": {
          "base_uri": "https://localhost:8080/"
        },
        "id": "Kw4FHGPR9as5",
        "outputId": "b9105576-943f-491b-a8b2-b0091a809a90"
      },
      "execution_count": 12,
      "outputs": [
        {
          "output_type": "stream",
          "name": "stdout",
          "text": [
            "Accuracy without scaling: 0.7592592592592593\n",
            "Accuracy with scaling: 0.3888888888888889\n"
          ]
        }
      ]
    },
    {
      "cell_type": "markdown",
      "source": [
        "### Q30: Write a Python program to train a Gaussian Naïve Bayes model and compare the predictions before and after Laplace Smoothing\n"
      ],
      "metadata": {
        "id": "mvoLkA3d9jHX"
      }
    },
    {
      "cell_type": "code",
      "source": [
        "from sklearn.naive_bayes import GaussianNB\n",
        "\n",
        "# Train without Laplace Smoothing\n",
        "model1 = GaussianNB(var_smoothing=1e-9)\n",
        "model1.fit(X_train, y_train)\n",
        "pred1 = model1.predict(X_test)\n",
        "\n",
        "# Train with higher Laplace Smoothing\n",
        "model2 = GaussianNB(var_smoothing=1e-2)\n",
        "model2.fit(X_train, y_train)\n",
        "pred2 = model2.predict(X_test)\n",
        "\n",
        "print(\"Predictions without smoothing:\", pred1[:10])\n",
        "print(\"Predictions with smoothing:\", pred2[:10])\n"
      ],
      "metadata": {
        "colab": {
          "base_uri": "https://localhost:8080/"
        },
        "id": "3WkSMZ--9k-e",
        "outputId": "b37d85eb-9ecd-4247-be33-e04c5227c319"
      },
      "execution_count": 13,
      "outputs": [
        {
          "output_type": "stream",
          "name": "stdout",
          "text": [
            "Predictions without smoothing: [0 0 2 0 1 0 1 2 1 2]\n",
            "Predictions with smoothing: [0 0 2 0 1 0 1 2 2 2]\n"
          ]
        }
      ]
    },
    {
      "cell_type": "markdown",
      "source": [
        "### Q31: Write a Python program to train an SVM Classifier and use GridSearchCV to tune the hyperparameters (C, gamma, kernel)\n"
      ],
      "metadata": {
        "id": "1PAqJiQO9kms"
      }
    },
    {
      "cell_type": "code",
      "source": [
        "from sklearn.model_selection import GridSearchCV\n",
        "\n",
        "param_grid = {\n",
        "    'C': [0.1, 1, 10],\n",
        "    'gamma': [0.001, 0.01, 0.1, 1],\n",
        "    'kernel': ['linear', 'rbf']\n",
        "}\n",
        "\n",
        "grid = GridSearchCV(SVC(), param_grid, cv=5, scoring='accuracy')\n",
        "grid.fit(X_train, y_train)\n",
        "\n",
        "print(\"Best parameters:\", grid.best_params_)\n",
        "print(\"Best accuracy:\", grid.best_score_)\n"
      ],
      "metadata": {
        "colab": {
          "base_uri": "https://localhost:8080/"
        },
        "id": "-rbozN3S9q1k",
        "outputId": "91dea44f-6184-41ce-bf67-c3388d306332"
      },
      "execution_count": 14,
      "outputs": [
        {
          "output_type": "stream",
          "name": "stdout",
          "text": [
            "Best parameters: {'C': 0.1, 'gamma': 0.001, 'kernel': 'linear'}\n",
            "Best accuracy: 0.9276666666666668\n"
          ]
        }
      ]
    },
    {
      "cell_type": "markdown",
      "source": [
        "###Q32: Train an SVM Classifier on an imbalanced dataset and apply class weighting"
      ],
      "metadata": {
        "id": "DkRkFlV6AQmG"
      }
    },
    {
      "cell_type": "code",
      "source": [
        "# Q32: SVM on imbalanced dataset with class weighting\n",
        "\n",
        "import numpy as np\n",
        "from sklearn.datasets import make_classification\n",
        "from sklearn.model_selection import train_test_split\n",
        "from sklearn.svm import SVC\n",
        "from sklearn.metrics import classification_report\n",
        "\n",
        "# Create imbalanced dataset\n",
        "X, y = make_classification(n_samples=2000, n_features=10, weights=[0.9, 0.1], random_state=42)\n",
        "\n",
        "# Train-test split\n",
        "X_train, X_test, y_train, y_test = train_test_split(X, y, test_size=0.3, random_state=42)\n",
        "\n",
        "# Train without class weights\n",
        "svm_normal = SVC(kernel='linear')\n",
        "svm_normal.fit(X_train, y_train)\n",
        "print(\"Without class weighting:\\n\", classification_report(y_test, svm_normal.predict(X_test)))\n",
        "\n",
        "# Train with class weights\n",
        "svm_weighted = SVC(kernel='linear', class_weight='balanced')\n",
        "svm_weighted.fit(X_train, y_train)\n",
        "print(\"With class weighting:\\n\", classification_report(y_test, svm_weighted.predict(X_test)))\n"
      ],
      "metadata": {
        "colab": {
          "base_uri": "https://localhost:8080/"
        },
        "id": "WRuadBiJAS1S",
        "outputId": "10dcc700-1ddf-4dda-a182-6d6f6554c5c6"
      },
      "execution_count": 15,
      "outputs": [
        {
          "output_type": "stream",
          "name": "stdout",
          "text": [
            "Without class weighting:\n",
            "               precision    recall  f1-score   support\n",
            "\n",
            "           0       0.96      0.98      0.97       529\n",
            "           1       0.82      0.70      0.76        71\n",
            "\n",
            "    accuracy                           0.95       600\n",
            "   macro avg       0.89      0.84      0.86       600\n",
            "weighted avg       0.94      0.95      0.94       600\n",
            "\n",
            "With class weighting:\n",
            "               precision    recall  f1-score   support\n",
            "\n",
            "           0       0.99      0.90      0.94       529\n",
            "           1       0.56      0.96      0.71        71\n",
            "\n",
            "    accuracy                           0.91       600\n",
            "   macro avg       0.78      0.93      0.83       600\n",
            "weighted avg       0.94      0.91      0.92       600\n",
            "\n"
          ]
        }
      ]
    },
    {
      "cell_type": "markdown",
      "source": [
        "### Q33: Naïve Bayes classifier for spam detection using email data"
      ],
      "metadata": {
        "id": "Jr6qUR2IAWa5"
      }
    },
    {
      "cell_type": "code",
      "source": [
        "# Q33: Naïve Bayes for spam detection\n",
        "\n",
        "from sklearn.model_selection import train_test_split\n",
        "from sklearn.feature_extraction.text import CountVectorizer\n",
        "from sklearn.naive_bayes import MultinomialNB\n",
        "from sklearn.metrics import classification_report\n",
        "\n",
        "# Sample email dataset\n",
        "emails = [\n",
        "    \"Win money now\", \"Claim your free lottery\", \"Lowest prices for you\",\n",
        "    \"Meeting at 10am\", \"Project deadline tomorrow\", \"Let’s catch up over lunch\"\n",
        "]\n",
        "labels = [1, 1, 1, 0, 0, 0]  # 1 = Spam, 0 = Ham\n",
        "\n",
        "# Convert text to features\n",
        "vectorizer = CountVectorizer()\n",
        "X = vectorizer.fit_transform(emails)\n",
        "\n",
        "# Split\n",
        "X_train, X_test, y_train, y_test = train_test_split(X, labels, test_size=0.3, random_state=42)\n",
        "\n",
        "# Train\n",
        "nb = MultinomialNB()\n",
        "nb.fit(X_train, y_train)\n",
        "\n",
        "# Evaluate\n",
        "y_pred = nb.predict(X_test)\n",
        "print(\"Spam Detection Report:\\n\", classification_report(y_test, y_pred))\n"
      ],
      "metadata": {
        "colab": {
          "base_uri": "https://localhost:8080/"
        },
        "id": "CkfGBRVg_oxI",
        "outputId": "a22a9ca2-9188-4982-a2f4-16949eb59fb8"
      },
      "execution_count": 16,
      "outputs": [
        {
          "output_type": "stream",
          "name": "stdout",
          "text": [
            "Spam Detection Report:\n",
            "               precision    recall  f1-score   support\n",
            "\n",
            "           0       0.00      0.00      0.00       0.0\n",
            "           1       0.00      0.00      0.00       2.0\n",
            "\n",
            "    accuracy                           0.00       2.0\n",
            "   macro avg       0.00      0.00      0.00       2.0\n",
            "weighted avg       0.00      0.00      0.00       2.0\n",
            "\n"
          ]
        }
      ]
    },
    {
      "cell_type": "markdown",
      "source": [
        "###Q34: Train an SVM Classifier and a Naïve Bayes Classifier on the same dataset and compare accuracy"
      ],
      "metadata": {
        "id": "SBw5RbwcAc9d"
      }
    },
    {
      "cell_type": "code",
      "source": [
        "# Q34: Compare SVM vs Naïve Bayes on same dataset\n",
        "\n",
        "import numpy as np\n",
        "from sklearn.datasets import make_classification\n",
        "from sklearn.model_selection import train_test_split\n",
        "from sklearn.svm import SVC\n",
        "from sklearn.naive_bayes import GaussianNB\n",
        "from sklearn.metrics import accuracy_score\n",
        "\n",
        "# Dataset\n",
        "X, y = make_classification(n_samples=2000, n_features=20, n_classes=2, random_state=42)\n",
        "\n",
        "# Split\n",
        "X_train, X_test, y_train, y_test = train_test_split(X, y, test_size=0.3, random_state=42)\n",
        "\n",
        "# SVM\n",
        "svm = SVC(kernel='linear')\n",
        "svm.fit(X_train, y_train)\n",
        "svm_acc = accuracy_score(y_test, svm.predict(X_test))\n",
        "\n",
        "# Naïve Bayes\n",
        "nb = GaussianNB()\n",
        "nb.fit(X_train, y_train)\n",
        "nb_acc = accuracy_score(y_test, nb.predict(X_test))\n",
        "\n",
        "print(f\"SVM Accuracy: {svm_acc:.4f}\")\n",
        "print(f\"Naïve Bayes Accuracy: {nb_acc:.4f}\")\n"
      ],
      "metadata": {
        "colab": {
          "base_uri": "https://localhost:8080/"
        },
        "id": "JP_yOTMWAe3Q",
        "outputId": "85428702-149c-438e-c727-dd1aa96d40f4"
      },
      "execution_count": 17,
      "outputs": [
        {
          "output_type": "stream",
          "name": "stdout",
          "text": [
            "SVM Accuracy: 0.8950\n",
            "Naïve Bayes Accuracy: 0.8967\n"
          ]
        }
      ]
    },
    {
      "cell_type": "markdown",
      "source": [
        "###Q35: Perform feature selection before training a Naïve Bayes classifier and compare results"
      ],
      "metadata": {
        "id": "XhD4nRBcAkc5"
      }
    },
    {
      "cell_type": "code",
      "source": [
        "# Q35: Perform feature selection before training a Naïve Bayes classifier and compare results\n",
        "\n",
        "from sklearn.datasets import load_wine\n",
        "from sklearn.model_selection import train_test_split\n",
        "from sklearn.naive_bayes import GaussianNB\n",
        "from sklearn.feature_selection import SelectKBest, f_classif\n",
        "from sklearn.metrics import accuracy_score\n",
        "\n",
        "# Load dataset\n",
        "wine = load_wine()\n",
        "X, y = wine.data, wine.target\n",
        "\n",
        "# Train-test split\n",
        "X_train, X_test, y_train, y_test = train_test_split(X, y, test_size=0.2, random_state=42)\n",
        "\n",
        "# Without feature selection\n",
        "clf1 = GaussianNB()\n",
        "clf1.fit(X_train, y_train)\n",
        "y_pred1 = clf1.predict(X_test)\n",
        "acc1 = accuracy_score(y_test, y_pred1)\n",
        "\n",
        "# With feature selection (top 10 features using ANOVA F-test)\n",
        "selector = SelectKBest(score_func=f_classif, k=10)\n",
        "X_train_sel = selector.fit_transform(X_train, y_train)\n",
        "X_test_sel = selector.transform(X_test)\n",
        "\n",
        "clf2 = GaussianNB()\n",
        "clf2.fit(X_train_sel, y_train)\n",
        "y_pred2 = clf2.predict(X_test_sel)\n",
        "acc2 = accuracy_score(y_test, y_pred2)\n",
        "\n",
        "print(\"Accuracy without feature selection:\", acc1)\n",
        "print(\"Accuracy with feature selection:\", acc2)\n"
      ],
      "metadata": {
        "colab": {
          "base_uri": "https://localhost:8080/"
        },
        "id": "nBvEK_14Aiwn",
        "outputId": "fc355e04-9f99-48d3-e8da-65e4cccd73a9"
      },
      "execution_count": 20,
      "outputs": [
        {
          "output_type": "stream",
          "name": "stdout",
          "text": [
            "Accuracy without feature selection: 1.0\n",
            "Accuracy with feature selection: 0.9722222222222222\n"
          ]
        }
      ]
    },
    {
      "cell_type": "markdown",
      "source": [
        "### Q36: Train an SVM Classifier using One-vs-Rest (OvR) and One-vs-One (OvO) on the Wine dataset"
      ],
      "metadata": {
        "id": "EdAMAgo9BAs6"
      }
    },
    {
      "cell_type": "code",
      "source": [
        "# Q36: SVM OvR vs OvO on Wine dataset\n",
        "\n",
        "from sklearn.datasets import load_wine\n",
        "from sklearn.model_selection import train_test_split\n",
        "from sklearn.svm import SVC\n",
        "from sklearn.multiclass import OneVsRestClassifier, OneVsOneClassifier\n",
        "from sklearn.metrics import accuracy_score\n",
        "\n",
        "# Load dataset\n",
        "wine = load_wine()\n",
        "X, y = wine.data, wine.target\n",
        "\n",
        "# Split\n",
        "X_train, X_test, y_train, y_test = train_test_split(X, y, test_size=0.3, random_state=42)\n",
        "\n",
        "# One-vs-Rest\n",
        "ovr = OneVsRestClassifier(SVC(kernel='linear'))\n",
        "ovr.fit(X_train, y_train)\n",
        "ovr_acc = accuracy_score(y_test, ovr.predict(X_test))\n",
        "\n",
        "# One-vs-One\n",
        "ovo = OneVsOneClassifier(SVC(kernel='linear'))\n",
        "ovo.fit(X_train, y_train)\n",
        "ovo_acc = accuracy_score(y_test, ovo.predict(X_test))\n",
        "\n",
        "print(f\"SVM One-vs-Rest Accuracy: {ovr_acc:.4f}\")\n",
        "print(f\"SVM One-vs-One Accuracy: {ovo_acc:.4f}\")\n"
      ],
      "metadata": {
        "colab": {
          "base_uri": "https://localhost:8080/"
        },
        "id": "ABGqZEmGAqTg",
        "outputId": "d8d16ecb-b57f-49b7-9174-11b5b7bda4a2"
      },
      "execution_count": 21,
      "outputs": [
        {
          "output_type": "stream",
          "name": "stdout",
          "text": [
            "SVM One-vs-Rest Accuracy: 0.9815\n",
            "SVM One-vs-One Accuracy: 0.9815\n"
          ]
        }
      ]
    },
    {
      "cell_type": "markdown",
      "source": [
        "###Q37: Train an SVM Classifier using Linear, Polynomial, and RBF kernels on the Breast Cancer dataset and compare accuracy"
      ],
      "metadata": {
        "id": "tQq65FnDBH_r"
      }
    },
    {
      "cell_type": "code",
      "source": [
        "from sklearn.datasets import load_breast_cancer\n",
        "from sklearn.model_selection import train_test_split\n",
        "from sklearn.svm import SVC\n",
        "from sklearn.metrics import accuracy_score\n",
        "\n",
        "# Load dataset\n",
        "data = load_breast_cancer()\n",
        "X, y = data.data, data.target\n",
        "\n",
        "# Train-test split\n",
        "X_train, X_test, y_train, y_test = train_test_split(X, y, test_size=0.2, random_state=42)\n",
        "\n",
        "# Kernels to test\n",
        "kernels = ['linear', 'poly', 'rbf']\n",
        "for kernel in kernels:\n",
        "    clf = SVC(kernel=kernel, random_state=42)\n",
        "    clf.fit(X_train, y_train)\n",
        "    y_pred = clf.predict(X_test)\n",
        "    print(f\"Kernel: {kernel}, Accuracy: {accuracy_score(y_test, y_pred):.4f}\")\n"
      ],
      "metadata": {
        "colab": {
          "base_uri": "https://localhost:8080/"
        },
        "id": "Gp7WAyzSBHub",
        "outputId": "79b29cad-0a39-4c9a-dccc-71bdae732f89"
      },
      "execution_count": 22,
      "outputs": [
        {
          "output_type": "stream",
          "name": "stdout",
          "text": [
            "Kernel: linear, Accuracy: 0.9561\n",
            "Kernel: poly, Accuracy: 0.9474\n",
            "Kernel: rbf, Accuracy: 0.9474\n"
          ]
        }
      ]
    },
    {
      "cell_type": "markdown",
      "source": [
        "###Q38: SVM Classifier using Stratified K-Fold Cross-Validation and compute average accuracy"
      ],
      "metadata": {
        "id": "BnQmRv63BWSI"
      }
    },
    {
      "cell_type": "code",
      "source": [
        "from sklearn.model_selection import StratifiedKFold, cross_val_score\n",
        "\n",
        "# Load dataset\n",
        "data = load_breast_cancer()\n",
        "X, y = data.data, data.target\n",
        "\n",
        "# SVM Classifier\n",
        "clf = SVC(kernel='linear', random_state=42)\n",
        "\n",
        "# Stratified K-Fold\n",
        "skf = StratifiedKFold(n_splits=5, shuffle=True, random_state=42)\n",
        "scores = cross_val_score(clf, X, y, cv=skf)\n",
        "\n",
        "print(\"Cross-validation accuracies:\", scores)\n",
        "print(\"Average Accuracy:\", scores.mean())\n"
      ],
      "metadata": {
        "colab": {
          "base_uri": "https://localhost:8080/"
        },
        "id": "pOkdKs33BUy6",
        "outputId": "053d0a13-9fb6-4e62-fc0c-875d7ed1576f"
      },
      "execution_count": 23,
      "outputs": [
        {
          "output_type": "stream",
          "name": "stdout",
          "text": [
            "Cross-validation accuracies: [0.94736842 0.92982456 0.95614035 0.93859649 0.96460177]\n",
            "Average Accuracy: 0.9473063188945815\n"
          ]
        }
      ]
    },
    {
      "cell_type": "markdown",
      "source": [
        "###Q39: Naïve Bayes classifier using different prior probabilities and compare performance"
      ],
      "metadata": {
        "id": "ZmpBHxrfBbgi"
      }
    },
    {
      "cell_type": "code",
      "source": [
        "from sklearn.naive_bayes import GaussianNB\n",
        "\n",
        "# Train-test split\n",
        "X_train, X_test, y_train, y_test = train_test_split(X, y, test_size=0.2, random_state=42)\n",
        "\n",
        "# Different priors\n",
        "priors = [None, [0.7, 0.3], [0.5, 0.5]]\n",
        "\n",
        "for prior in priors:\n",
        "    clf = GaussianNB(priors=prior)\n",
        "    clf.fit(X_train, y_train)\n",
        "    acc = clf.score(X_test, y_test)\n",
        "    print(f\"Priors: {prior}, Accuracy: {acc:.4f}\")\n"
      ],
      "metadata": {
        "colab": {
          "base_uri": "https://localhost:8080/"
        },
        "id": "whoitrG4Benw",
        "outputId": "e2e8db59-62fb-4f52-b2e8-d790ced36ab8"
      },
      "execution_count": 24,
      "outputs": [
        {
          "output_type": "stream",
          "name": "stdout",
          "text": [
            "Priors: None, Accuracy: 0.9737\n",
            "Priors: [0.7, 0.3], Accuracy: 0.9649\n",
            "Priors: [0.5, 0.5], Accuracy: 0.9737\n"
          ]
        }
      ]
    },
    {
      "cell_type": "markdown",
      "source": [
        "###Q40: Perform Recursive Feature Elimination (RFE) before training an SVM Classifier and compare accuracy"
      ],
      "metadata": {
        "id": "xnk83zZOBeRQ"
      }
    },
    {
      "cell_type": "code",
      "source": [
        "from sklearn.feature_selection import RFE\n",
        "\n",
        "# Base SVM\n",
        "svm = SVC(kernel=\"linear\", random_state=42)\n",
        "\n",
        "# RFE with 10 features\n",
        "selector = RFE(svm, n_features_to_select=10)\n",
        "X_train_rfe = selector.fit_transform(X_train, y_train)\n",
        "X_test_rfe = selector.transform(X_test)\n",
        "\n",
        "# Train without RFE\n",
        "svm.fit(X_train, y_train)\n",
        "acc1 = svm.score(X_test, y_test)\n",
        "\n",
        "# Train with RFE\n",
        "svm.fit(X_train_rfe, y_train)\n",
        "acc2 = svm.score(X_test_rfe, y_test)\n",
        "\n",
        "print(\"Accuracy without RFE:\", acc1)\n",
        "print(\"Accuracy with RFE:\", acc2)\n"
      ],
      "metadata": {
        "colab": {
          "base_uri": "https://localhost:8080/"
        },
        "id": "KXB3zysHBlBg",
        "outputId": "974f0a48-eb3d-4771-9fd2-5ce222a58d30"
      },
      "execution_count": 25,
      "outputs": [
        {
          "output_type": "stream",
          "name": "stdout",
          "text": [
            "Accuracy without RFE: 0.956140350877193\n",
            "Accuracy with RFE: 0.9736842105263158\n"
          ]
        }
      ]
    },
    {
      "cell_type": "markdown",
      "source": [
        "###Q41: Train an SVM Classifier and evaluate using Precision, Recall, and F1-Score"
      ],
      "metadata": {
        "id": "TrYzgPj6Bi18"
      }
    },
    {
      "cell_type": "code",
      "source": [
        "from sklearn.metrics import precision_score, recall_score, f1_score\n",
        "\n",
        "# Train SVM\n",
        "clf = SVC(kernel=\"linear\", random_state=42)\n",
        "clf.fit(X_train, y_train)\n",
        "y_pred = clf.predict(X_test)\n",
        "\n",
        "# Evaluation\n",
        "precision = precision_score(y_test, y_pred)\n",
        "recall = recall_score(y_test, y_pred)\n",
        "f1 = f1_score(y_test, y_pred)\n",
        "\n",
        "print(\"Precision:\", precision)\n",
        "print(\"Recall:\", recall)\n",
        "print(\"F1-Score:\", f1)\n"
      ],
      "metadata": {
        "colab": {
          "base_uri": "https://localhost:8080/"
        },
        "id": "vpAafq3RBrsV",
        "outputId": "ced747e7-8dcf-4537-ad10-a4e5e7e16eb7"
      },
      "execution_count": 26,
      "outputs": [
        {
          "output_type": "stream",
          "name": "stdout",
          "text": [
            "Precision: 0.9459459459459459\n",
            "Recall: 0.9859154929577465\n",
            "F1-Score: 0.9655172413793104\n"
          ]
        }
      ]
    },
    {
      "cell_type": "markdown",
      "source": [
        "###Q42: Train a Naïve Bayes Classifier and evaluate its performance using Log Loss (Cross-Entropy Loss)"
      ],
      "metadata": {
        "id": "Oejf_LA_B0Uu"
      }
    },
    {
      "cell_type": "code",
      "source": [
        "from sklearn.naive_bayes import GaussianNB\n",
        "from sklearn.metrics import log_loss\n",
        "\n",
        "# Train Naïve Bayes\n",
        "nb = GaussianNB()\n",
        "nb.fit(X_train, y_train)\n",
        "\n",
        "# Predict probabilities\n",
        "y_prob = nb.predict_proba(X_test)\n",
        "\n",
        "# Log Loss\n",
        "loss = log_loss(y_test, y_prob)\n",
        "print(\"Log Loss (Cross-Entropy Loss):\", loss)\n"
      ],
      "metadata": {
        "colab": {
          "base_uri": "https://localhost:8080/"
        },
        "id": "c_6VykufB1yA",
        "outputId": "620a7630-01e7-45e0-90f7-81d50dd1a7bb"
      },
      "execution_count": 27,
      "outputs": [
        {
          "output_type": "stream",
          "name": "stdout",
          "text": [
            "Log Loss (Cross-Entropy Loss): 0.2037342715214191\n"
          ]
        }
      ]
    },
    {
      "cell_type": "markdown",
      "source": [
        "###Q43: Train an SVM Classifier and visualize the Confusion Matrix using seaborn"
      ],
      "metadata": {
        "id": "wY3vGaQ0B6ED"
      }
    },
    {
      "cell_type": "code",
      "source": [
        "import seaborn as sns\n",
        "import matplotlib.pyplot as plt\n",
        "from sklearn.metrics import confusion_matrix\n",
        "\n",
        "# Train SVM\n",
        "clf = SVC(kernel=\"linear\", random_state=42)\n",
        "clf.fit(X_train, y_train)\n",
        "y_pred = clf.predict(X_test)\n",
        "\n",
        "# Confusion Matrix\n",
        "cm = confusion_matrix(y_test, y_pred)\n",
        "\n",
        "# Visualization\n",
        "plt.figure(figsize=(6,4))\n",
        "sns.heatmap(cm, annot=True, fmt='d', cmap='Blues',\n",
        "            xticklabels=data.target_names, yticklabels=data.target_names)\n",
        "plt.xlabel(\"Predicted\")\n",
        "plt.ylabel(\"Actual\")\n",
        "plt.title(\"Confusion Matrix (SVM)\")\n",
        "plt.show()\n"
      ],
      "metadata": {
        "colab": {
          "base_uri": "https://localhost:8080/",
          "height": 410
        },
        "id": "F3G3b1odB5qN",
        "outputId": "773db499-d0a9-4a3b-8d32-b8be0e5c920c"
      },
      "execution_count": 28,
      "outputs": [
        {
          "output_type": "display_data",
          "data": {
            "text/plain": [
              "<Figure size 600x400 with 2 Axes>"
            ],
            "image/png": "[encoded data removed]"
          },
          "metadata": {}
        }
      ]
    },
    {
      "cell_type": "markdown",
      "source": [
        "###Q44: Train an SVM Regressor (SVR) and evaluate its performance using Mean Absolute Error (MAE)"
      ],
      "metadata": {
        "id": "897_538pB-3D"
      }
    },
    {
      "cell_type": "code",
      "source": [
        "from sklearn.svm import SVR\n",
        "from sklearn.metrics import mean_absolute_error\n",
        "from sklearn.datasets import load_diabetes\n",
        "\n",
        "# Load regression dataset\n",
        "diabetes = load_diabetes()\n",
        "X_reg, y_reg = diabetes.data, diabetes.target\n",
        "X_train_reg, X_test_reg, y_train_reg, y_test_reg = train_test_split(X_reg, y_reg, test_size=0.2, random_state=42)\n",
        "\n",
        "# SVR model\n",
        "svr = SVR(kernel='rbf')\n",
        "svr.fit(X_train_reg, y_train_reg)\n",
        "y_pred_reg = svr.predict(X_test_reg)\n",
        "\n",
        "# MAE\n",
        "mae = mean_absolute_error(y_test_reg, y_pred_reg)\n",
        "print(\"Mean Absolute Error (SVR):\", mae)\n"
      ],
      "metadata": {
        "colab": {
          "base_uri": "https://localhost:8080/"
        },
        "id": "ULGK1mmUB2qy",
        "outputId": "daf5d2cd-fc17-446a-af48-472df578bfb4"
      },
      "execution_count": 29,
      "outputs": [
        {
          "output_type": "stream",
          "name": "stdout",
          "text": [
            "Mean Absolute Error (SVR): 56.02372412801096\n"
          ]
        }
      ]
    },
    {
      "cell_type": "markdown",
      "source": [
        "###Q45: Train a Naïve Bayes classifier and evaluate its performance using the ROC-AUC score"
      ],
      "metadata": {
        "id": "HQ0nofjuCHXL"
      }
    },
    {
      "cell_type": "code",
      "source": [
        "from sklearn.metrics import roc_auc_score\n",
        "\n",
        "# Train Naïve Bayes\n",
        "nb = GaussianNB()\n",
        "nb.fit(X_train, y_train)\n",
        "\n",
        "# Predict probabilities\n",
        "y_prob = nb.predict_proba(X_test)[:,1]\n",
        "\n",
        "# ROC-AUC\n",
        "roc_auc = roc_auc_score(y_test, y_prob)\n",
        "print(\"ROC-AUC Score:\", roc_auc)\n"
      ],
      "metadata": {
        "colab": {
          "base_uri": "https://localhost:8080/"
        },
        "id": "oWU-i1rTCBb_",
        "outputId": "8ced4408-ddaf-4975-eba2-e364f2f3cddc"
      },
      "execution_count": 30,
      "outputs": [
        {
          "output_type": "stream",
          "name": "stdout",
          "text": [
            "ROC-AUC Score: 0.9983622666229938\n"
          ]
        }
      ]
    },
    {
      "cell_type": "markdown",
      "source": [
        "###Q46: Train an SVM Classifier and visualize the Precision-Recall Curve"
      ],
      "metadata": {
        "id": "Ir4g6ACjCMPt"
      }
    },
    {
      "cell_type": "code",
      "source": [
        "from sklearn.metrics import precision_recall_curve\n",
        "\n",
        "# Train SVM with probability estimates\n",
        "clf = SVC(kernel=\"linear\", probability=True, random_state=42)\n",
        "clf.fit(X_train, y_train)\n",
        "\n",
        "# Predict probabilities\n",
        "y_scores = clf.predict_proba(X_test)[:,1]\n",
        "\n",
        "# Precision-Recall Curve\n",
        "precision, recall, thresholds = precision_recall_curve(y_test, y_scores)\n",
        "\n",
        "plt.figure(figsize=(6,4))\n",
        "plt.plot(recall, precision, marker='.')\n",
        "plt.xlabel(\"Recall\")\n",
        "plt.ylabel(\"Precision\")\n",
        "plt.title(\"Precision-Recall Curve (SVM)\")\n",
        "plt.show()\n"
      ],
      "metadata": {
        "colab": {
          "base_uri": "https://localhost:8080/",
          "height": 410
        },
        "id": "n_B7yEfbCKTO",
        "outputId": "0e13debd-5fbb-4d45-bcef-a6bd4a35cb8d"
      },
      "execution_count": 31,
      "outputs": [
        {
          "output_type": "display_data",
          "data": {
            "text/plain": [
              "<Figure size 600x400 with 1 Axes>"
            ],
            "image/png": "[encoded data removed]"
          },
          "metadata": {}
        }
      ]
    },
    {
      "cell_type": "code",
      "source": [],
      "metadata": {
        "id": "sUEkhaJdCOiA"
      },
      "execution_count": null,
      "outputs": []
    }
  ]
}