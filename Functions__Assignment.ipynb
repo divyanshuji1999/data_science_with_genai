{
  "nbformat": 4,
  "nbformat_minor": 0,
  "metadata": {
    "colab": {
      "provenance": []
    },
    "kernelspec": {
      "name": "python3",
      "display_name": "Python 3"
    },
    "language_info": {
      "name": "python"
    }
  },
  "cells": [
    {
      "cell_type": "markdown",
      "source": [
        "#Function Assignment\n",
        "##Theory Question"
      ],
      "metadata": {
        "id": "_dZCIavcSkX4"
      }
    },
    {
      "cell_type": "markdown",
      "source": [
        "## Question 1:\n",
        "### What is the difference between a function and a method in Python?\n",
        "\n",
        "\n",
        "A function is a standalone block of code that performs a specific task, while a method is a function associated with an object or class.\n"
      ],
      "metadata": {
        "id": "m-BL5NvHTfUs"
      }
    },
    {
      "cell_type": "code",
      "source": [
        "def my_function():\n",
        "    return \"I am a function\"\n",
        "\n",
        "class MyClass:\n",
        "    def my_method(self):\n",
        "        return \"I am a method\"\n",
        "\n",
        "# Example:\n",
        "print(my_function())         # Calls function\n",
        "obj = MyClass()\n",
        "print(obj.my_method())       # Calls method"
      ],
      "metadata": {
        "colab": {
          "base_uri": "https://localhost:8080/"
        },
        "id": "4sDEbp4SUIRM",
        "outputId": "3350716f-4b0a-4bf4-a0c0-67a0b5e0fc2c"
      },
      "execution_count": 1,
      "outputs": [
        {
          "output_type": "stream",
          "name": "stdout",
          "text": [
            "I am a function\n",
            "I am a method\n"
          ]
        }
      ]
    },
    {
      "cell_type": "markdown",
      "source": [
        "##Question 2:\n",
        "##Explain the concept of function arguments and parameters in Python.\n",
        "\n",
        "Parameters are the variables defined in the function signature, and arguments are the values passed to the function when it is called.\n"
      ],
      "metadata": {
        "id": "6BlU_x3JUNRq"
      }
    },
    {
      "cell_type": "code",
      "source": [
        "def greet(name):  # 'name' is a parameter\n",
        "    return f\"Hello, {name}!\"\n",
        "\n",
        "# Example:\n",
        "print(greet(\"Padmanabh\"))  # \"Padmanabh\" is an argument"
      ],
      "metadata": {
        "colab": {
          "base_uri": "https://localhost:8080/"
        },
        "id": "JT94XSSRUgYq",
        "outputId": "baae3a58-90f7-466e-b699-dfbe0ffb01f5"
      },
      "execution_count": 4,
      "outputs": [
        {
          "output_type": "stream",
          "name": "stdout",
          "text": [
            "Hello, Padmanabh!\n"
          ]
        }
      ]
    },
    {
      "cell_type": "markdown",
      "source": [
        "##Question 3:\n",
        "###What are the different ways to define and call a function in Python?\n",
        "\n",
        "Functions are defined using the 'def' keyword and called using the function name followed by parentheses.\n",
        "\n"
      ],
      "metadata": {
        "id": "zBt4Jsv5WTWa"
      }
    },
    {
      "cell_type": "code",
      "source": [
        "def addition(a, b):\n",
        "    return a + b\n",
        "\n",
        "# Example of calling the function:\n",
        "result = addition(3, 5)  # Calling the function\n",
        "print(result)"
      ],
      "metadata": {
        "colab": {
          "base_uri": "https://localhost:8080/"
        },
        "id": "TUb0xQ0yWcEb",
        "outputId": "44e403ab-c252-4d6a-a25a-b0e12cbf25c5"
      },
      "execution_count": 5,
      "outputs": [
        {
          "output_type": "stream",
          "name": "stdout",
          "text": [
            "8\n"
          ]
        }
      ]
    },
    {
      "cell_type": "markdown",
      "source": [
        "##Question 4:\n",
        "###What is the purpose of the return statement in a Python function?\n",
        "The return statement is used to end a function and pass a value back to the caller.\n",
        "\n",
        "\n"
      ],
      "metadata": {
        "id": "ck05zH8mWfxt"
      }
    },
    {
      "cell_type": "code",
      "source": [
        "def square(x):\n",
        "    return x * x\n",
        "\n",
        "# Example:\n",
        "print(square(4))  # Returns 16"
      ],
      "metadata": {
        "colab": {
          "base_uri": "https://localhost:8080/"
        },
        "id": "fZmfz-jBWqzu",
        "outputId": "a892c61b-57e9-4cd8-edcf-3ce5722f11b8"
      },
      "execution_count": 6,
      "outputs": [
        {
          "output_type": "stream",
          "name": "stdout",
          "text": [
            "16\n"
          ]
        }
      ]
    },
    {
      "cell_type": "markdown",
      "source": [
        "##Question 5:\n",
        "###What are iterators in Python and how do they differ from iterables?\n",
        "\n",
        "Iterables are collections that can be iterated over. Iterators are objects that produce the next value from an iterable.\n",
        "\n"
      ],
      "metadata": {
        "id": "TaLeD89pWvS0"
      }
    },
    {
      "cell_type": "code",
      "source": [
        "my_list = [1, 2, 3]\n",
        "iterator = iter(my_list)  # Creating an iterator\n",
        "\n",
        "# Example:\n",
        "print(next(iterator))\n",
        "print(next(iterator))"
      ],
      "metadata": {
        "colab": {
          "base_uri": "https://localhost:8080/"
        },
        "id": "24fBE736W_5u",
        "outputId": "70e06c4f-ee0f-465f-e3bb-22d01f52dde1"
      },
      "execution_count": 7,
      "outputs": [
        {
          "output_type": "stream",
          "name": "stdout",
          "text": [
            "1\n",
            "2\n"
          ]
        }
      ]
    },
    {
      "cell_type": "markdown",
      "source": [
        "##Question 6:\n",
        "###Explain the concept of generators in Python and how they are defined.\n",
        "Generators are defined using functions but use 'yield' instead of 'return' to produce a series of values lazily.\n",
        "\n",
        "\n"
      ],
      "metadata": {
        "id": "5oUVijX6Wv6p"
      }
    },
    {
      "cell_type": "code",
      "source": [
        "def counter():\n",
        "    for i in range(3):\n",
        "        yield i\n",
        "\n",
        "# Example:\n",
        "for number in counter():\n",
        "    print(number)"
      ],
      "metadata": {
        "colab": {
          "base_uri": "https://localhost:8080/"
        },
        "id": "e5PSQuNHXP3N",
        "outputId": "6f129526-eab7-405a-9e13-1f0bf7fb0a63"
      },
      "execution_count": 8,
      "outputs": [
        {
          "output_type": "stream",
          "name": "stdout",
          "text": [
            "0\n",
            "1\n",
            "2\n"
          ]
        }
      ]
    },
    {
      "cell_type": "markdown",
      "source": [
        "##Question 7:\n",
        "##What are the advantages of using generators over regular functions?\n",
        "Generators offer lazy evaluation, memory efficiency, and improved performance for large data sets.\n",
        "\n"
      ],
      "metadata": {
        "id": "6emFVtzbWv8_"
      }
    },
    {
      "cell_type": "code",
      "source": [
        "# Example (counter generator):\n",
        "def counter():\n",
        "    for i in range(3):\n",
        "        yield i\n",
        "\n",
        "for number in counter():\n",
        "    print(number)"
      ],
      "metadata": {
        "colab": {
          "base_uri": "https://localhost:8080/"
        },
        "id": "NPE6aD6DXlEP",
        "outputId": "fc49e811-ca95-45e3-8b05-b51818692b6a"
      },
      "execution_count": 9,
      "outputs": [
        {
          "output_type": "stream",
          "name": "stdout",
          "text": [
            "0\n",
            "1\n",
            "2\n"
          ]
        }
      ]
    },
    {
      "cell_type": "markdown",
      "source": [
        "##Question 8:\n",
        "###What is a lambda function in Python and when is it typically used?\n",
        "\n",
        "A lambda function is an anonymous, single-expression function often used for short-term tasks.\n",
        "\n",
        "\n"
      ],
      "metadata": {
        "id": "qAbRKKHKWwGF"
      }
    },
    {
      "cell_type": "code",
      "source": [
        "square_lambda = lambda x: x * x\n",
        "\n",
        "# Example:\n",
        "print(square_lambda(5))"
      ],
      "metadata": {
        "colab": {
          "base_uri": "https://localhost:8080/"
        },
        "id": "31579gq_X9Ql",
        "outputId": "8c0bf841-d1ad-4860-d9fc-553d6bed5c8e"
      },
      "execution_count": 10,
      "outputs": [
        {
          "output_type": "stream",
          "name": "stdout",
          "text": [
            "25\n"
          ]
        }
      ]
    },
    {
      "cell_type": "markdown",
      "source": [
        "##Question 9:\n",
        "###Explain the purpose and usage of the map() function in Python.\n",
        "- () is used to apply a function to every item in an iterable, returning a map object.\n",
        "\n"
      ],
      "metadata": {
        "id": "fYvoieQfWwIM"
      }
    },
    {
      "cell_type": "code",
      "source": [
        "numbers = [1, 2, 3]\n",
        "squared_numbers = map(lambda x: x ** 2, numbers)\n",
        "\n",
        "# Example:\n",
        "print(list(squared_numbers))"
      ],
      "metadata": {
        "colab": {
          "base_uri": "https://localhost:8080/"
        },
        "id": "MVy4wOeTYKRS",
        "outputId": "93403bae-c10a-491f-ef15-5774548cfcf4"
      },
      "execution_count": 11,
      "outputs": [
        {
          "output_type": "stream",
          "name": "stdout",
          "text": [
            "[1, 4, 9]\n"
          ]
        }
      ]
    },
    {
      "cell_type": "markdown",
      "source": [
        "##Question 10:\n",
        "###What is the difference between map(), reduce(), and filter() functions in Python?\n",
        "- map() applies a function to all items in an input list.\n",
        "- reduce() applies a function cumulatively to items of an iterable, reducing it to a single value (requires import from functools).\n",
        "- filter() filters items out of an iterable based on a condition.\n",
        "\n"
      ],
      "metadata": {
        "id": "EWp4aaEQWwKl"
      }
    },
    {
      "cell_type": "code",
      "source": [
        "from functools import reduce\n",
        "\n",
        "# Example:\n",
        "print(list(map(lambda x: x * 2, [1, 2, 3])))\n",
        "print(reduce(lambda x, y: x + y, [1, 2, 3, 4]))\n",
        "print(list(filter(lambda x: x % 2 != 0, [1, 2, 3, 4])))"
      ],
      "metadata": {
        "colab": {
          "base_uri": "https://localhost:8080/"
        },
        "id": "c7CLiQGfZ47z",
        "outputId": "f7cac9c6-3c74-4c2c-eda4-651410f74516"
      },
      "execution_count": 14,
      "outputs": [
        {
          "output_type": "stream",
          "name": "stdout",
          "text": [
            "[2, 4, 6]\n",
            "10\n",
            "[1, 3]\n"
          ]
        }
      ]
    },
    {
      "cell_type": "markdown",
      "source": [
        "##Question 11:\n",
        "###Using pen & paper, write the internal mechanism for the sum operation using the reduce function on this given list: [47, 11, 42, 13].\n",
        "\n"
      ],
      "metadata": {
        "id": "fBRMGjMCZ97h"
      }
    },
    {
      "cell_type": "code",
      "source": [
        "from IPython.display import Image, display\n",
        "display(Image('/Ques11.PNG', width=500))\n",
        "\n"
      ],
      "metadata": {
        "colab": {
          "base_uri": "https://localhost:8080/",
          "height": 79
        },
        "id": "WXQH_PGOjh97",
        "outputId": "88de4043-768c-4e07-8622-649fe8d547f3"
      },
      "execution_count": 16,
      "outputs": [
        {
          "output_type": "display_data",
          "data": {
            "image/png": "[encoded data removed]",
            "text/plain": [
              "<IPython.core.display.Image object>"
            ]
          },
          "metadata": {
            "image/png": {
              "width": 500
            }
          }
        }
      ]
    },
    {
      "cell_type": "code",
      "source": [
        "# Example in Python using reduce:\n",
        "from functools import reduce\n",
        "\n",
        "numbers = [47, 11, 42, 13]\n",
        "result = reduce(lambda x, y: x + y, numbers)\n",
        "\n",
        "# Output the result\n",
        "print(\"The sum of the list [47, 11, 42, 13] using reduce is:\", result)"
      ],
      "metadata": {
        "colab": {
          "base_uri": "https://localhost:8080/"
        },
        "id": "d_zy24mrt_gl",
        "outputId": "8f92201a-e502-49de-be55-83bed0fda447"
      },
      "execution_count": 17,
      "outputs": [
        {
          "output_type": "stream",
          "name": "stdout",
          "text": [
            "The sum of the list [47, 11, 42, 13] using reduce is: 113\n"
          ]
        }
      ]
    },
    {
      "cell_type": "code",
      "source": [
        "from google.colab import drive\n",
        "drive.mount('/content/drive')"
      ],
      "metadata": {
        "colab": {
          "base_uri": "https://localhost:8080/"
        },
        "id": "GCFwGTBi_tps",
        "outputId": "df2647d9-992f-4067-ae1d-2425663c7613"
      },
      "execution_count": 20,
      "outputs": [
        {
          "output_type": "stream",
          "name": "stdout",
          "text": [
            "Mounted at /content/drive\n"
          ]
        }
      ]
    },
    {
      "cell_type": "markdown",
      "source": [
        "##Practical Question\n",
        "\n",
        "---\n"
      ],
      "metadata": {
        "id": "VSeVYNsSuhST"
      }
    },
    {
      "cell_type": "markdown",
      "source": [
        "\n",
        "## Question 1:\n",
        "### Write a Python function that takes a list of numbers as input and returns the sum of all even numbers in the list.\n",
        "\n",
        "\n",
        "\n",
        "\n"
      ],
      "metadata": {
        "id": "xrP2NvfMuv2n"
      }
    },
    {
      "cell_type": "code",
      "source": [
        "def sum_of_evens(numbers):\n",
        "    return sum(num for num in numbers if num % 2 == 0)\n",
        "\n",
        "# Example usage:\n",
        "print(sum_of_evens([1, 2, 3, 4, 5, 6]))"
      ],
      "metadata": {
        "colab": {
          "base_uri": "https://localhost:8080/"
        },
        "id": "EtlY6Yr1yugK",
        "outputId": "95bc7d83-b742-48cd-9438-efc917e785f9"
      },
      "execution_count": 21,
      "outputs": [
        {
          "output_type": "stream",
          "name": "stdout",
          "text": [
            "12\n"
          ]
        }
      ]
    },
    {
      "cell_type": "markdown",
      "source": [
        "##Question 2:\n",
        "###Create a Python function that accepts a string and returns the reverse of that string.\n"
      ],
      "metadata": {
        "id": "CX1ArTcmy58c"
      }
    },
    {
      "cell_type": "code",
      "source": [
        "def reverse_string(s):\n",
        "    return s[::-1]\n",
        "\n",
        "# Example usage:\n",
        "print(reverse_string(\"hello\"))"
      ],
      "metadata": {
        "colab": {
          "base_uri": "https://localhost:8080/"
        },
        "id": "787nTBCLy5x-",
        "outputId": "baf7bd9a-e7a5-4bc2-bde6-310a89fa7314"
      },
      "execution_count": 22,
      "outputs": [
        {
          "output_type": "stream",
          "name": "stdout",
          "text": [
            "olleh\n"
          ]
        }
      ]
    },
    {
      "cell_type": "markdown",
      "source": [
        "##Question 3:\n",
        "###Implement a Python function that takes a list of integers and returns a new list containing the squares of each number."
      ],
      "metadata": {
        "id": "kFNUaI6Zy5l-"
      }
    },
    {
      "cell_type": "code",
      "source": [
        "def square_numbers(numbers):\n",
        "    return [num ** 2 for num in numbers]\n",
        "\n",
        "# Example usage:\n",
        "print(square_numbers([1, 2, 3, 4]))"
      ],
      "metadata": {
        "colab": {
          "base_uri": "https://localhost:8080/"
        },
        "id": "e1zuW6-Qy5cO",
        "outputId": "e5c4bc87-7fec-4d7e-ddc9-af7bb5dd89b1"
      },
      "execution_count": 23,
      "outputs": [
        {
          "output_type": "stream",
          "name": "stdout",
          "text": [
            "[1, 4, 9, 16]\n"
          ]
        }
      ]
    },
    {
      "cell_type": "markdown",
      "source": [
        "##Question 4:\n",
        "###Write a Python function that checks if a given number is prime or not from 1 to 200"
      ],
      "metadata": {
        "id": "RPcY30t8y5PW"
      }
    },
    {
      "cell_type": "code",
      "source": [
        "def is_prime(n):\n",
        "    if n <= 1:\n",
        "        return False\n",
        "    for i in range(2, int(n ** 0.5) + 1):\n",
        "        if n % i == 0:\n",
        "            return False\n",
        "    return True\n",
        "\n",
        "# Example usage for numbers 1 to 200:\n",
        "primes = [n for n in range(1, 201) if is_prime(n)]\n",
        "print(primes)"
      ],
      "metadata": {
        "colab": {
          "base_uri": "https://localhost:8080/"
        },
        "id": "S-hsKS2Ay5FP",
        "outputId": "8f06920f-2ee6-489d-c02f-f1bc7b5560fa"
      },
      "execution_count": 24,
      "outputs": [
        {
          "output_type": "stream",
          "name": "stdout",
          "text": [
            "[2, 3, 5, 7, 11, 13, 17, 19, 23, 29, 31, 37, 41, 43, 47, 53, 59, 61, 67, 71, 73, 79, 83, 89, 97, 101, 103, 107, 109, 113, 127, 131, 137, 139, 149, 151, 157, 163, 167, 173, 179, 181, 191, 193, 197, 199]\n"
          ]
        }
      ]
    },
    {
      "cell_type": "markdown",
      "source": [
        "##Question 5:\n",
        "###Create an iterator class in Python that generates the Fibonacci sequence up to a specified number of terms."
      ],
      "metadata": {
        "id": "irwHwj3fy45M"
      }
    },
    {
      "cell_type": "code",
      "source": [
        "class Fibonacci:\n",
        "    def __init__(self, n_terms):\n",
        "        self.n_terms = n_terms\n",
        "        self.index = 0\n",
        "        self.a, self.b = 0, 1\n",
        "\n",
        "    def __iter__(self):\n",
        "        return self\n",
        "\n",
        "    def __next__(self):\n",
        "        if self.index >= self.n_terms:\n",
        "            raise StopIteration\n",
        "        if self.index == 0:\n",
        "            self.index += 1\n",
        "            return self.a\n",
        "        else:\n",
        "            self.a, self.b = self.b, self.a + self.b\n",
        "            self.index += 1\n",
        "            return self.a\n",
        "\n",
        "# Example usage:\n",
        "fib = Fibonacci(10)\n",
        "print(list(fib))  # Output: First 10 Fibonacci numbers"
      ],
      "metadata": {
        "colab": {
          "base_uri": "https://localhost:8080/"
        },
        "id": "mN9_iMERy4vF",
        "outputId": "a06637e9-d2d5-4037-a272-a6c13b521e97"
      },
      "execution_count": 25,
      "outputs": [
        {
          "output_type": "stream",
          "name": "stdout",
          "text": [
            "[0, 1, 1, 2, 3, 5, 8, 13, 21, 34]\n"
          ]
        }
      ]
    },
    {
      "cell_type": "markdown",
      "source": [
        "##Question 6:\n",
        "###Write a generator function in Python that yields the powers of 2 up to a given exponent."
      ],
      "metadata": {
        "id": "3OUy0QCxy4je"
      }
    },
    {
      "cell_type": "code",
      "source": [
        "def powers_of_2(exponent):\n",
        "    for i in range(exponent + 1):\n",
        "        yield 2 ** i\n",
        "\n",
        "# Example usage:\n",
        "for power in powers_of_2(5):\n",
        "    print(power)"
      ],
      "metadata": {
        "colab": {
          "base_uri": "https://localhost:8080/"
        },
        "id": "DNWUhCAhy4ZO",
        "outputId": "2ea6880a-57e3-408b-a8b1-1c0073df965f"
      },
      "execution_count": 26,
      "outputs": [
        {
          "output_type": "stream",
          "name": "stdout",
          "text": [
            "1\n",
            "2\n",
            "4\n",
            "8\n",
            "16\n",
            "32\n"
          ]
        }
      ]
    },
    {
      "cell_type": "markdown",
      "source": [
        "##Question 7:\n",
        "###Implement a generator function that reads a file line by line and yields each line as a string.\n"
      ],
      "metadata": {
        "id": "wyqq8KFoy4Nm"
      }
    },
    {
      "cell_type": "code",
      "source": [
        "def read_file_line_by_line(file_path):\n",
        "    with open(file_path, 'r') as file:\n",
        "        for line in file:\n",
        "            yield line.strip()\n",
        "\n",
        "# Example usage:\n",
        "for line in read_file_line_by_line('/content/example.txt'):\n",
        "    print(line)"
      ],
      "metadata": {
        "colab": {
          "base_uri": "https://localhost:8080/"
        },
        "id": "3xgjp7kAy4Dl",
        "outputId": "786dd018-1acf-4d61-e54e-872e97399367"
      },
      "execution_count": 31,
      "outputs": [
        {
          "output_type": "stream",
          "name": "stdout",
          "text": [
            "this is example\n",
            "\n",
            "my name is padmanabh\n",
            "\n",
            "\n"
          ]
        }
      ]
    },
    {
      "cell_type": "markdown",
      "source": [
        "##Question 8:\n",
        "###Use a lambda function in Python to sort a list of tuples based on the second element of each tuple.\n"
      ],
      "metadata": {
        "id": "Je68JG6Ay32-"
      }
    },
    {
      "cell_type": "code",
      "source": [
        "tuples_list = [(1, 3), (3, 2), (5, 1)]\n",
        "sorted_list = sorted(tuples_list, key=lambda x: x[1])\n",
        "print(sorted_list)"
      ],
      "metadata": {
        "colab": {
          "base_uri": "https://localhost:8080/"
        },
        "id": "M3RJ3qsDy3Xi",
        "outputId": "8bbcb782-0377-4b6c-8fa1-72fc93a22fc1"
      },
      "execution_count": 32,
      "outputs": [
        {
          "output_type": "stream",
          "name": "stdout",
          "text": [
            "[(5, 1), (3, 2), (1, 3)]\n"
          ]
        }
      ]
    },
    {
      "cell_type": "markdown",
      "source": [
        "##Question 9:\n",
        "###Write a Python program that uses `map()` to convert a list of temperatures from Celsius to Fahrenheit.\n"
      ],
      "metadata": {
        "id": "mhCI45Ncy3LA"
      }
    },
    {
      "cell_type": "code",
      "source": [
        "def celsius_to_fahrenheit(celsius):\n",
        "    return (celsius * 9/5) + 32\n",
        "\n",
        "celsius_list = [0, 20, 37, 100]\n",
        "fahrenheit_list = list(map(celsius_to_fahrenheit, celsius_list))\n",
        "print(fahrenheit_list)"
      ],
      "metadata": {
        "colab": {
          "base_uri": "https://localhost:8080/"
        },
        "id": "q8ZMnUYMy27E",
        "outputId": "cb0a5102-8b2f-4001-e757-538790799f5c"
      },
      "execution_count": 33,
      "outputs": [
        {
          "output_type": "stream",
          "name": "stdout",
          "text": [
            "[32.0, 68.0, 98.6, 212.0]\n"
          ]
        }
      ]
    },
    {
      "cell_type": "markdown",
      "source": [
        "##Question 10:\n",
        "###Create a Python program that uses filter() to remove all the vowels from a given string."
      ],
      "metadata": {
        "id": "FYP_FGjKy2u_"
      }
    },
    {
      "cell_type": "code",
      "source": [
        "def remove_vowels(s):\n",
        "    vowels = 'aeiouAEIOU'\n",
        "    return ''.join(filter(lambda x: x not in vowels, s))\n",
        "\n",
        "# Example usage:\n",
        "print(remove_vowels(\"This is a test.\"))"
      ],
      "metadata": {
        "colab": {
          "base_uri": "https://localhost:8080/"
        },
        "id": "iMU4o36Ry2jy",
        "outputId": "83007cbc-b917-4d4b-88c6-58ee8474039c"
      },
      "execution_count": 34,
      "outputs": [
        {
          "output_type": "stream",
          "name": "stdout",
          "text": [
            "Ths s  tst.\n"
          ]
        }
      ]
    },
    {
      "cell_type": "markdown",
      "source": [
        "## Question 11\n"
      ],
      "metadata": {
        "id": "SG4GxTtry2V9"
      }
    },
    {
      "cell_type": "code",
      "source": [
        "from IPython.display import Image, display\n",
        "display(Image('/content/Ques11.PNG', width=500))\n",
        "#Imagine an accounting routine used in a book shop. It works on a list with sublists, which look like this: (provided image)."
      ],
      "metadata": {
        "colab": {
          "base_uri": "https://localhost:8080/",
          "height": 79
        },
        "id": "zHrAUL0ay2GJ",
        "outputId": "e2f41238-214a-4e01-f847-d8e97ff16ca1"
      },
      "execution_count": 36,
      "outputs": [
        {
          "output_type": "display_data",
          "data": {
            "image/png": "[encoded data removed]",
            "text/plain": [
              "<IPython.core.display.Image object>"
            ]
          },
          "metadata": {
            "image/png": {
              "width": 500
            }
          }
        }
      ]
    },
    {
      "cell_type": "markdown",
      "source": [
        "Imagine an accounting routine used in a book shop. It works on a list with sublists, which look like this: (provided image). Write a Python program, which returns a list with 2-tuples. Each tuple consists of the order number and the\n",
        "product of the price per item and the quantity. The product should be increased by 10,- € if the value of the order is smaller than 100,00 €.\n",
        "Write a Python program using lambda and map."
      ],
      "metadata": {
        "id": "LCGKZm7sy1tU"
      }
    },
    {
      "cell_type": "code",
      "source": [
        "orders = [\n",
        "    [34587, \"Learning Python, Mark Lutz\", 4, 40.95],\n",
        "    [98762, \"Programming Python, Mark Lutz\", 5, 56.80],\n",
        "    [77226, \"Head First Python, Paul Barry\", 3, 32.95],\n",
        "    [88112, \"Einführung in Python3, Bernd Klein\", 3, 24.99]\n",
        "]\n",
        "\n",
        "order_costs = map(lambda order: (order[0], order[2] * order[3] + (10 if order[2] * order[3] < 10000 else 0)), orders)\n",
        "\n",
        "# Convert to list to view the results\n",
        "order_costs_list = list(order_costs)\n",
        "print(order_costs_list)"
      ],
      "metadata": {
        "colab": {
          "base_uri": "https://localhost:8080/"
        },
        "id": "HhZAuYkm4R_V",
        "outputId": "88ec12c5-e7df-4e42-fa6f-6053fd522daa"
      },
      "execution_count": 37,
      "outputs": [
        {
          "output_type": "stream",
          "name": "stdout",
          "text": [
            "[(34587, 173.8), (98762, 294.0), (77226, 108.85000000000001), (88112, 84.97)]\n"
          ]
        }
      ]
    },
    {
      "cell_type": "code",
      "source": [],
      "metadata": {
        "id": "jr0l5ka2QH2z"
      },
      "execution_count": null,
      "outputs": []
    }
  ]
}