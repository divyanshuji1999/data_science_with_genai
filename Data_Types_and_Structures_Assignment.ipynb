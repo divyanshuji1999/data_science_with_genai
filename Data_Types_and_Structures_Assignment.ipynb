{
  "nbformat": 4,
  "nbformat_minor": 0,
  "metadata": {
    "colab": {
      "provenance": []
    },
    "kernelspec": {
      "name": "python3",
      "display_name": "Python 3"
    },
    "language_info": {
      "name": "python"
    }
  },
  "cells": [
    {
      "cell_type": "markdown",
      "source": [
        "#Data Types and Structures Assignment Question"
      ],
      "metadata": {
        "id": "YDt6PYkNgXRI"
      }
    },
    {
      "cell_type": "markdown",
      "source": [
        "##**Theory Question Answer**"
      ],
      "metadata": {
        "id": "E8NmAq3oggXN"
      }
    },
    {
      "cell_type": "markdown",
      "source": [
        "### 1. What are data structures, and why are they important?\n",
        "\n",
        "Data structures are specialized formats for organizing, storing, and manipulating data efficiently in a computer.\n",
        "\n",
        "They're important because:\n",
        "- They provide efficient ways to access and modify data\n",
        "- Different structures have different performance characteristics for various operations\n",
        "- They help organize data in meaningful ways\n",
        "- They're fundamental building blocks for algorithms and programs\n",
        "- They can significantly impact the speed and efficiency of your code.\n"
      ],
      "metadata": {
        "id": "_2U6uR3jgyIB"
      }
    },
    {
      "cell_type": "markdown",
      "source": [
        "### 2. Explain the difference between mutable and immutable data types with examples:\n",
        "\n",
        "Mutable data types can be changed after creation:\n",
        "- Lists: my_list = [1, 2, 3] → my_list[0] = 99 (works)\n",
        "- Dictionaries: my_dict = {'a': 1} → my_dict['a'] = 2 (works)\n",
        "- Sets: my_set = {1, 2, 3} → my_set.add(4) (works)\n",
        "\n",
        "Immutable data types cannot be changed after creation:\n",
        "- Integers: x = 5 → cannot modify the value 5 itself\n",
        "- Floats: y = 3.14 → cannot modify the value 3.14 itself\n",
        "- Strings: s = \"hello\" → cannot modify individual characters\n",
        "- Tuples: t = (1, 2, 3) → cannot modify elements after creation\n"
      ],
      "metadata": {
        "id": "2Tf-2Ac5q9aS"
      }
    },
    {
      "cell_type": "markdown",
      "source": [
        "### 3. What are the main differences between lists and tuples in Python?\n",
        "- Mutability: Lists are mutable (can be changed), tuples are immutable (cannot be changed)\n",
        "- Syntax: Lists use square brackets [1, 2, 3], tuples use parentheses (1, 2, 3)\n",
        "- Performance: Tuples are slightly faster and use less memory\n",
        "- Usage: Lists for collections that need to be modified, tuples for fixed collections\n",
        "- Methods: Lists have more built-in methods (append, extend, etc.)\n",
        "\n"
      ],
      "metadata": {
        "id": "GdYuKVCvrCmd"
      }
    },
    {
      "cell_type": "markdown",
      "source": [
        "### 4. Describe how dictionaries store data:\n",
        "\n",
        "Dictionaries store data as key-value pairs using a hash table implementation:\n",
        "- Each key must be unique and immutable (like strings, numbers, or tuples)\n",
        "- Values can be any data type and mutable\n",
        "- Items are not stored in any specific order (in Python 3.7+ insertion order is preserved)\n",
        "- Under the hood, dictionaries use a hash function to compute an index where values are stored\n",
        "- This provides very fast O(1) lookup time regardless of dictionary size."
      ],
      "metadata": {
        "id": "VmKvrJkprCcS"
      }
    },
    {
      "cell_type": "markdown",
      "source": [
        "### 5. Why might you use a set instead of a list in Python?\n",
        "\n",
        "You might use a set instead of a list when:\n",
        "- You need to ensure all elements are unique (sets automatically eliminate duplicates)\n",
        "- You need to perform frequent membership testing ('in' operations are much faster in sets)\n",
        "- You need to perform mathematical set operations (union, intersection, difference)\n",
        "- Order of elements is not important\n",
        "- You need faster add/remove operations for large collections"
      ],
      "metadata": {
        "id": "8UjeCdE1rCSg"
      }
    },
    {
      "cell_type": "markdown",
      "source": [
        "### 6. What is a string in Python, and how is it different from a list?\n",
        "\n",
        "A string in Python is an immutable sequence of characters. Differences from lists:\n",
        "- Strings can only contain characters, while lists can contain any data type\n",
        "- Strings are immutable (cannot be changed), lists are mutable\n",
        "- Strings have specialized methods for text processing (split, replace, etc.)\n",
        "- Strings use different syntax: \"hello\" vs ['h', 'e', 'l', 'l', 'o']"
      ],
      "metadata": {
        "id": "GaPlTlKYrCII"
      }
    },
    {
      "cell_type": "markdown",
      "source": [
        "### 7. How do tuples ensure data integrity in Python?\n",
        "\n",
        "Tuples ensure data integrity through:\n",
        "- Immutability: Once created, tuple contents cannot be modified\n",
        "- This prevents accidental changes to data that should remain constant\n",
        "- Immutability allows tuples to be used as dictionary keys\n",
        "- They can be used to guarantee that data won't change throughout program execution\n",
        "- Their immutability makes them more memory efficient and slightly faster than lists\n"
      ],
      "metadata": {
        "id": "A3DMwzakrB_f"
      }
    },
    {
      "cell_type": "markdown",
      "source": [
        "### 8. What is a hash table, and how does it relate to dictionaries in Python?\n",
        "\n",
        "A hash table is a data structure that maps keys to values using a hash function. In Python:\n",
        "- Dictionaries are implemented using hash tables\n",
        "- The hash function converts keys into array indices for storage\n",
        "- This allows for O(1) average time complexity for lookups, insertions, and deletions\n",
        "- When you access a key, Python hashes it to find the corresponding value quickly\n",
        "- Collisions (when different keys produce the same hash) are handled internally\n"
      ],
      "metadata": {
        "id": "Vr3zqH-4rB2x"
      }
    },
    {
      "cell_type": "markdown",
      "source": [
        "### 9. Can lists contain different data types in Python?\n",
        "\n",
        "Yes! Lists in Python can contain different data types, including:\n",
        "- Numbers (integers, floats)\n",
        "- Strings\n",
        "- Booleans\n",
        "- Other lists (nested lists)\n",
        "- Tuples, dictionaries, sets\n",
        "- Custom objects\n",
        "\n",
        "Example: mixed_list = [1, \"hello\", True, [2, 3], {\"name\": \"Alice\"}]\n"
      ],
      "metadata": {
        "id": "YYalxgY6sDYk"
      }
    },
    {
      "cell_type": "markdown",
      "source": [
        "### 10. Explain why strings are immutable in Python:\n",
        "\n",
        "Strings are immutable in Python for several reasons:\n",
        "- It allows Python to optimize memory usage by reusing string objects\n",
        "- It ensures security since strings can't be modified unexpectedly\n",
        "- It allows strings to be used as dictionary keys (which must be immutable)\n",
        "- It simplifies string handling and prevents unexpected side effects\n",
        "- It enables Python to implement certain optimizations like string interning"
      ],
      "metadata": {
        "id": "cByUTbd6sDVD"
      }
    },
    {
      "cell_type": "markdown",
      "source": [
        "### 11. What advantages do dictionaries offer over lists for certain tasks?\n",
        "\n",
        "Dictionaries offer several advantages:\n",
        "- Fast lookups by key (O(1) vs O(n) for lists)\n",
        "- Semantic clarity with named keys instead of numeric indices\n",
        "- Efficient for tasks requiring frequent lookups, insertions, and deletions\n",
        "- Better for representing structured data with named fields\n",
        "- Can store heterogeneous data with meaningful labels\n",
        "- No need to know the position of an item to retrieve it"
      ],
      "metadata": {
        "id": "zC73-scosZ6c"
      }
    },
    {
      "cell_type": "markdown",
      "source": [
        "### 12. Describe a scenario where using a tuple would be preferable over a list:\n",
        "\n",
        "Tuples are preferable when:\n",
        "- Representing fixed data like coordinates: point = (x, y, z)\n",
        "- Returning multiple values from a function\n",
        "- Using as dictionary keys (lists can't be keys)\n",
        "- Storing data that shouldn't change (like database records)\n",
        "- Working with data that has a fixed structure (like RGB values)\n",
        "- When you want to enforce immutability for data security"
      ],
      "metadata": {
        "id": "r8TZ_tLnsZ3D"
      }
    },
    {
      "cell_type": "markdown",
      "source": [
        "### 13. How do sets handle duplicate values in Python?\n",
        "\n",
        "Sets automatically eliminate duplicates:\n",
        "- When you create a set or add elements to it, duplicates are silently ignored\n",
        "- Only one instance of each value is stored\n",
        "- This happens because sets use hash tables internally\n",
        "- When you convert another collection to a set, duplicates are removed\n",
        "- Example: {1, 2, 2, 3, 3, 3} becomes {1, 2, 3}"
      ],
      "metadata": {
        "id": "BrUD-If5sZsV"
      }
    },
    {
      "cell_type": "markdown",
      "source": [
        "\n",
        "### 14. How does the \"in\" keyword work differently for lists and dictionaries?\n",
        "\n",
        "The 'in' keyword works differently because:\n",
        "- For lists: 'in' searches sequentially through all elements (O(n) time complexity)\n",
        "- For dictionaries: 'in' checks if a key exists using hashing (O(1) time complexity)\n",
        "- For lists, 'in' gets slower as the list grows\n",
        "- For dictionaries, 'in' remains fast regardless of size\n",
        "- For dictionaries, 'in' only checks keys, not values (use value in dict.values() for values)"
      ],
      "metadata": {
        "id": "PwgwMAjvsZge"
      }
    },
    {
      "cell_type": "markdown",
      "source": [
        "\n",
        "\n",
        "### 15. Can you modify the elements of a tuple? Explain why or why not:\n",
        "\n",
        "You cannot modify the elements of a tuple directly because tuples are immutable. However:\n",
        "- You cannot add, remove, or replace elements in a tuple\n",
        "- You cannot assign to individual positions: my_tuple[0] = 5 will raise an error\n",
        "- If a tuple contains mutable objects (like lists), those objects can be modified\n",
        "- Example: t = ([1, 2], 3) → t[0].append(4) works, but t[0] = [5, 6] doesn't"
      ],
      "metadata": {
        "id": "xXte3JswsZaf"
      }
    },
    {
      "cell_type": "markdown",
      "source": [
        "### 16. What is a nested dictionary, and give an example of its use case?\n",
        "\n",
        "A nested dictionary is a dictionary where some values are themselves dictionaries. This creates a hierarchical\n",
        "structure that can represent complex data relationships.\n",
        "\n",
        "\n",
        "\n"
      ],
      "metadata": {
        "id": "fxYo8Aq4sYRj"
      }
    },
    {
      "cell_type": "code",
      "source": [
        "#Example:\n",
        "student_data = {\n",
        "    \"Alice\": {\n",
        "        \"age\": 22,\n",
        "        \"major\": \"Computer Science\",\n",
        "        \"grades\": {\"math\": 95, \"programming\": 98}\n",
        "    },\n",
        "    \"Bob\": {\n",
        "        \"age\": 21,\n",
        "        \"major\": \"Physics\",\n",
        "        \"grades\": {\"math\": 90, \"physics\": 92}\n",
        "    }\n",
        "}\n",
        "student_data"
      ],
      "metadata": {
        "colab": {
          "base_uri": "https://localhost:8080/"
        },
        "id": "UB4uTuwSs-OW",
        "outputId": "2a10e262-a979-4432-bb37-107847c4f1e5"
      },
      "execution_count": 1,
      "outputs": [
        {
          "output_type": "execute_result",
          "data": {
            "text/plain": [
              "{'Alice': {'age': 22,\n",
              "  'major': 'Computer Science',\n",
              "  'grades': {'math': 95, 'programming': 98}},\n",
              " 'Bob': {'age': 21, 'major': 'Physics', 'grades': {'math': 90, 'physics': 92}}}"
            ]
          },
          "metadata": {},
          "execution_count": 1
        }
      ]
    },
    {
      "cell_type": "markdown",
      "source": [
        "Use cases include:\n",
        "- Representing hierarchical data like organizational structures\n",
        "- Storing complex configurations with multiple levels\n",
        "- Managing relational data like users with multiple attributes and sub-attributes\n",
        "- JSON-like data structures for APIs and web applications\n"
      ],
      "metadata": {
        "id": "k5HEsRgSsYOP"
      }
    },
    {
      "cell_type": "markdown",
      "source": [
        "\n",
        "### 17. Describe the time complexity of accessing elements in a dictionary:\n",
        "\n",
        "Accessing elements in a dictionary has:\n",
        "- Average case: O(1) - constant time\n",
        "- Worst case: O(n) - linear time (rare, happens with many hash collisions)\n",
        "\n",
        "This means that regardless of the dictionary size, lookups are typically instantaneous, making\n",
        "dictionaries ideal for applications requiring fast data retrieval by key."
      ],
      "metadata": {
        "id": "zUKR98TRsYLs"
      }
    },
    {
      "cell_type": "markdown",
      "source": [
        "\n",
        "### 18. In what situations are lists preferred over dictionaries?\n",
        "\n",
        "Lists are preferred when:\n",
        "- Order matters and you need to maintain sequence\n",
        "- You need to access elements by position (index) rather than by name\n",
        "- You need to perform operations that rely on order (sorting, reversing)\n",
        "- You need to store duplicate values\n",
        "- Memory efficiency is important for simple sequential data\n",
        "- You need to perform operations on all elements (iteration) frequently\n",
        "- The data naturally forms a sequence rather than key-value pairs\n"
      ],
      "metadata": {
        "id": "fZ3rNq_XsYIn"
      }
    },
    {
      "cell_type": "markdown",
      "source": [
        "### 19. Why are dictionaries considered unordered, and how does that affect data retrieval?\n",
        "\n",
        "Traditionally, dictionaries were considered unordered because:\n",
        "- The internal hash table implementation didn't guarantee position\n",
        "- The order could change between Python versions or implementations\n",
        "- Insertion order wasn't preserved\n",
        "\n",
        "However, since Python 3.7, dictionaries do preserve insertion order as an implementation detail,\n",
        "and in Python 3.8+ this is a language guarantee.\n",
        "\n",
        "This affects data retrieval because:\n",
        "- You should not rely on order when using dictionaries (especially in older Python versions)\n",
        "- You should access items by key, not position\n",
        "- If order is critical, consider using OrderedDict (though regular dicts now maintain order)"
      ],
      "metadata": {
        "id": "ZcUbkhjzsYFq"
      }
    },
    {
      "cell_type": "markdown",
      "source": [
        "\n",
        "### 20. Explain the difference between a list and a dictionary in terms of data retrieval:\n",
        "\n",
        "Lists vs dictionaries for data retrieval:\n",
        "- Lists: Retrieve by index (position) using square brackets: my_list[0]\n",
        "- Dictionaries: Retrieve by key using square brackets: my_dict[\"key\"]\n",
        "- List retrieval is O(1) if you know the index, but searching is O(n)\n",
        "- Dictionary retrieval is O(1) regardless of size (average case)\n",
        "- Lists require knowing the position of data\n",
        "- Dictionaries require knowing the key but not the position\n",
        "- Lists must be searched sequentially to find a value\n",
        "- Dictionaries can retrieve values directly using their keys"
      ],
      "metadata": {
        "id": "nH-RVA7stpCw"
      }
    },
    {
      "cell_type": "markdown",
      "source": [
        "# **Practical Question→**"
      ],
      "metadata": {
        "id": "CsWDqRnLt95T"
      }
    },
    {
      "cell_type": "markdown",
      "source": [
        "###1.\tWrite a code to create a string with your name and print it."
      ],
      "metadata": {
        "id": "lq7iqGKauO_C"
      }
    },
    {
      "cell_type": "code",
      "source": [
        "my_name = \"Padmanabh Mishra\"\n",
        "print(my_name)"
      ],
      "metadata": {
        "colab": {
          "base_uri": "https://localhost:8080/"
        },
        "id": "LGxV4Vibus7z",
        "outputId": "bb87577a-6d09-48f7-f659-159ef5b376ba"
      },
      "execution_count": 2,
      "outputs": [
        {
          "output_type": "stream",
          "name": "stdout",
          "text": [
            "Padmanabh Mishra\n"
          ]
        }
      ]
    },
    {
      "cell_type": "markdown",
      "source": [
        "###2. Write a code to find the length of the string \"Hello World\":"
      ],
      "metadata": {
        "id": "V2lsbLgUzYh7"
      }
    },
    {
      "cell_type": "code",
      "source": [
        "text = \"Hello World\"\n",
        "length = len(text)\n",
        "print(length)"
      ],
      "metadata": {
        "colab": {
          "base_uri": "https://localhost:8080/"
        },
        "id": "ouVlaHtRzXc3",
        "outputId": "2370aa35-7237-47a7-be79-0893fa755ab0"
      },
      "execution_count": 3,
      "outputs": [
        {
          "output_type": "stream",
          "name": "stdout",
          "text": [
            "11\n"
          ]
        }
      ]
    },
    {
      "cell_type": "markdown",
      "source": [
        "###3. Write a code to slice the first 3 characters from the string \"Python Programming\":"
      ],
      "metadata": {
        "id": "a4K1gmfzYkab"
      }
    },
    {
      "cell_type": "code",
      "source": [
        "text = \"Python Programming\"\n",
        "first_three = text[:3]\n",
        "print(first_three)"
      ],
      "metadata": {
        "colab": {
          "base_uri": "https://localhost:8080/"
        },
        "id": "AyKvNq23ZVeh",
        "outputId": "06d10ca4-8497-47d9-b4f3-d2c3f6fd26d0"
      },
      "execution_count": 4,
      "outputs": [
        {
          "output_type": "stream",
          "name": "stdout",
          "text": [
            "Pyt\n"
          ]
        }
      ]
    },
    {
      "cell_type": "markdown",
      "source": [
        "### 4. Write a code to convert the string \"hello\" to uppercase:\n",
        "\n",
        "\n",
        "\n"
      ],
      "metadata": {
        "id": "D5CcIAABZSOH"
      }
    },
    {
      "cell_type": "code",
      "source": [
        "text = \"hello\"\n",
        "uppercase_text = text.upper()\n",
        "print(uppercase_text)"
      ],
      "metadata": {
        "colab": {
          "base_uri": "https://localhost:8080/"
        },
        "id": "k8ctxzFtcq2Z",
        "outputId": "dbc04b7e-a435-4fe0-f7c3-c937db97f409"
      },
      "execution_count": 5,
      "outputs": [
        {
          "output_type": "stream",
          "name": "stdout",
          "text": [
            "HELLO\n"
          ]
        }
      ]
    },
    {
      "cell_type": "markdown",
      "source": [
        "###5. Write a code to replace the word \"apple\" with \"orange\" in the string \"I like apple\":"
      ],
      "metadata": {
        "id": "R4CQPPKRZSKy"
      }
    },
    {
      "cell_type": "code",
      "source": [
        "text = \"I like apple\"\n",
        "new_text = text.replace(\"apple\", \"orange\")\n",
        "print(new_text)"
      ],
      "metadata": {
        "colab": {
          "base_uri": "https://localhost:8080/"
        },
        "id": "OHrhsYRpdLos",
        "outputId": "7ac3032b-4b4e-4220-b54f-386975ef7360"
      },
      "execution_count": 6,
      "outputs": [
        {
          "output_type": "stream",
          "name": "stdout",
          "text": [
            "I like orange\n"
          ]
        }
      ]
    },
    {
      "cell_type": "markdown",
      "source": [
        "###6. Write a code to create a list with numbers 1 to 5 and print it:"
      ],
      "metadata": {
        "id": "ZDM57PooZSHd"
      }
    },
    {
      "cell_type": "code",
      "source": [
        "numbers = [1, 2, 3, 4, 5]\n",
        "print(numbers)\n",
        "\n",
        "# Alternative way to create the list\n",
        "numbers = list(range(1, 6))\n",
        "print(numbers)"
      ],
      "metadata": {
        "colab": {
          "base_uri": "https://localhost:8080/"
        },
        "id": "OVWfwPuydbHj",
        "outputId": "e90b8f97-5ee5-402c-91ea-d1bb80ac2ab2"
      },
      "execution_count": 7,
      "outputs": [
        {
          "output_type": "stream",
          "name": "stdout",
          "text": [
            "[1, 2, 3, 4, 5]\n",
            "[1, 2, 3, 4, 5]\n"
          ]
        }
      ]
    },
    {
      "cell_type": "markdown",
      "source": [
        "### 7. Write a code to append the number 10 to the list [1, 2, 3, 4]:\n",
        "\n",
        "\n"
      ],
      "metadata": {
        "id": "OZpULD0lZSDp"
      }
    },
    {
      "cell_type": "code",
      "source": [
        "numbers = [1, 2, 3, 4]\n",
        "numbers.append(10)\n",
        "print(numbers)"
      ],
      "metadata": {
        "colab": {
          "base_uri": "https://localhost:8080/"
        },
        "id": "ckqYwLrNdqIG",
        "outputId": "2a92c64e-4e0b-4d9c-b694-6222ac6749e0"
      },
      "execution_count": 8,
      "outputs": [
        {
          "output_type": "stream",
          "name": "stdout",
          "text": [
            "[1, 2, 3, 4, 10]\n"
          ]
        }
      ]
    },
    {
      "cell_type": "markdown",
      "source": [
        "8. Write a code to remove the number 3 from the list [1, 2, 3, 4, 5]."
      ],
      "metadata": {
        "id": "2Z4wJzjVZR_Z"
      }
    },
    {
      "cell_type": "code",
      "source": [
        "numbers = [1, 2, 3, 4, 5]\n",
        "numbers.remove(3)\n",
        "print(numbers)\n",
        "\n",
        "# Alternative way\n",
        "numbers = [1, 2, 3, 4, 5]\n",
        "index = numbers.index(3)\n",
        "del numbers[index]\n",
        "print(numbers)"
      ],
      "metadata": {
        "colab": {
          "base_uri": "https://localhost:8080/"
        },
        "id": "-DS0fqFPd6Jg",
        "outputId": "daf64c58-521c-4716-ffad-ce1759cf6204"
      },
      "execution_count": 9,
      "outputs": [
        {
          "output_type": "stream",
          "name": "stdout",
          "text": [
            "[1, 2, 4, 5]\n",
            "[1, 2, 4, 5]\n"
          ]
        }
      ]
    },
    {
      "cell_type": "markdown",
      "source": [
        "###9. Write a code to access the second element in the list ['a', 'b', 'c', 'd']:"
      ],
      "metadata": {
        "id": "MIDVX7TLZR5b"
      }
    },
    {
      "cell_type": "code",
      "source": [
        "letters = ['a', 'b', 'c', 'd']\n",
        "second_element = letters[1]  # indexing starts at 0\n",
        "print(second_element)"
      ],
      "metadata": {
        "colab": {
          "base_uri": "https://localhost:8080/"
        },
        "id": "WcDxhzxuedgx",
        "outputId": "e6778b1a-f3b1-4d00-b288-92040ae22ed1"
      },
      "execution_count": 10,
      "outputs": [
        {
          "output_type": "stream",
          "name": "stdout",
          "text": [
            "b\n"
          ]
        }
      ]
    },
    {
      "cell_type": "markdown",
      "source": [
        "### 10. Write a code to reverse the list [10, 20, 30, 40, 50].\n",
        "\n",
        "\n",
        "\n"
      ],
      "metadata": {
        "id": "KLQw4EufZRz2"
      }
    },
    {
      "cell_type": "code",
      "source": [
        "numbers = [10, 20, 30, 40, 50]\n",
        "numbers.reverse()\n",
        "print(numbers)\n",
        "\n",
        "# Alternative way\n",
        "numbers = [10, 20, 30, 40, 50]\n",
        "reversed_numbers = numbers[::-1]  #Slicing\n",
        "print(reversed_numbers)"
      ],
      "metadata": {
        "colab": {
          "base_uri": "https://localhost:8080/"
        },
        "id": "pg2bWZL_ig40",
        "outputId": "24a687c0-b7ab-4ffe-b21d-f31059d039c3"
      },
      "execution_count": 11,
      "outputs": [
        {
          "output_type": "stream",
          "name": "stdout",
          "text": [
            "[50, 40, 30, 20, 10]\n",
            "[50, 40, 30, 20, 10]\n"
          ]
        }
      ]
    },
    {
      "cell_type": "markdown",
      "source": [
        "### 11. Write a code to create a tuple with the elements 100, 200, 300 and print it:"
      ],
      "metadata": {
        "id": "LvEHOrsnZRu_"
      }
    },
    {
      "cell_type": "code",
      "source": [
        "my_tuple = (100, 200, 300)\n",
        "print(my_tuple)  # Output: (100, 200, 300)\n",
        "\n",
        "# Alternative way\n",
        "my_tuple = 100, 200, 300  # Parentheses are optional\n",
        "print(my_tuple)\n"
      ],
      "metadata": {
        "colab": {
          "base_uri": "https://localhost:8080/"
        },
        "id": "iign0zo4zkQi",
        "outputId": "e28ee43d-c53a-4dc2-a6da-c232ecd707ea"
      },
      "execution_count": 12,
      "outputs": [
        {
          "output_type": "stream",
          "name": "stdout",
          "text": [
            "(100, 200, 300)\n",
            "(100, 200, 300)\n"
          ]
        }
      ]
    },
    {
      "cell_type": "markdown",
      "source": [
        "###12. Write a code to access the second-to-last element of the tuple ('red', 'green', 'blue', 'yellow'):"
      ],
      "metadata": {
        "id": "vbs8nPHNZRpt"
      }
    },
    {
      "cell_type": "code",
      "source": [
        "colors = ('red', 'green', 'blue', 'yellow')\n",
        "second_to_last = colors[-2]\n",
        "print(second_to_last)"
      ],
      "metadata": {
        "colab": {
          "base_uri": "https://localhost:8080/"
        },
        "id": "C9qZ2S60z9WK",
        "outputId": "83109791-1924-4b39-af94-2268d31f8b3b"
      },
      "execution_count": 13,
      "outputs": [
        {
          "output_type": "stream",
          "name": "stdout",
          "text": [
            "blue\n"
          ]
        }
      ]
    },
    {
      "cell_type": "markdown",
      "source": [
        "### 13. Write a code to find the minimum number in the tuple (10, 20, 5, 15):\n"
      ],
      "metadata": {
        "id": "HJi8KqcJZRkf"
      }
    },
    {
      "cell_type": "code",
      "source": [
        "numbers = (10, 20, 5, 15)\n",
        "min_number = min(numbers)\n",
        "print(min_number)"
      ],
      "metadata": {
        "colab": {
          "base_uri": "https://localhost:8080/"
        },
        "id": "rQnvWWH32L1r",
        "outputId": "59f25296-aad4-4d42-d63c-2e22243fa7f0"
      },
      "execution_count": 14,
      "outputs": [
        {
          "output_type": "stream",
          "name": "stdout",
          "text": [
            "5\n"
          ]
        }
      ]
    },
    {
      "cell_type": "markdown",
      "source": [
        "###14. Write a code to find the index of the element \"cat\" in the tuple ('dog', 'cat', 'rabbit'):"
      ],
      "metadata": {
        "id": "sHUESrIwZRfp"
      }
    },
    {
      "cell_type": "code",
      "source": [
        "animals = ('dog', 'cat', 'rabbit')\n",
        "cat_index = animals.index('cat')\n",
        "print(cat_index)"
      ],
      "metadata": {
        "colab": {
          "base_uri": "https://localhost:8080/"
        },
        "id": "npHxqdMA2Tno",
        "outputId": "f1e8ee3b-a46d-4457-9b07-f31b9e5d11d5"
      },
      "execution_count": 15,
      "outputs": [
        {
          "output_type": "stream",
          "name": "stdout",
          "text": [
            "1\n"
          ]
        }
      ]
    },
    {
      "cell_type": "markdown",
      "source": [
        "###15. Write a code to create a tuple containing three different fruits and check if \"kiwi\" is in it:"
      ],
      "metadata": {
        "id": "4HP_UYHwZRVY"
      }
    },
    {
      "cell_type": "code",
      "source": [
        "fruits = ('apple', 'banana', 'orange')\n",
        "is_kiwi_present = 'kiwi' in fruits\n",
        "print(is_kiwi_present)"
      ],
      "metadata": {
        "colab": {
          "base_uri": "https://localhost:8080/"
        },
        "id": "4W3CO0Wl2dY_",
        "outputId": "a709a4f2-b3c0-433c-c700-80f65c4ed709"
      },
      "execution_count": 16,
      "outputs": [
        {
          "output_type": "stream",
          "name": "stdout",
          "text": [
            "False\n"
          ]
        }
      ]
    },
    {
      "cell_type": "markdown",
      "source": [
        "###16. Write a code to create a set with the elements 'a', 'b', 'c' and print it:"
      ],
      "metadata": {
        "id": "CzgzswC7ZRKw"
      }
    },
    {
      "cell_type": "code",
      "source": [
        "my_set = {'a', 'b', 'c'}\n",
        "print(my_set)\n",
        "\n",
        "# Alternative way\n",
        "my_set = set(['a', 'b', 'c'])\n",
        "print(my_set)"
      ],
      "metadata": {
        "colab": {
          "base_uri": "https://localhost:8080/"
        },
        "id": "7_6tOxk_2o2o",
        "outputId": "f8fa3fd4-3e79-46ad-c4a3-bc00ab94da97"
      },
      "execution_count": 17,
      "outputs": [
        {
          "output_type": "stream",
          "name": "stdout",
          "text": [
            "{'a', 'c', 'b'}\n",
            "{'a', 'c', 'b'}\n"
          ]
        }
      ]
    },
    {
      "cell_type": "markdown",
      "source": [
        "###17. Write a code to clear all elements from the set {1, 2, 3, 4, 5}:"
      ],
      "metadata": {
        "id": "XRiVIUX1ZRAu"
      }
    },
    {
      "cell_type": "code",
      "source": [
        "my_set = {1, 2, 3, 4, 5}\n",
        "my_set.clear()\n",
        "print(my_set)"
      ],
      "metadata": {
        "colab": {
          "base_uri": "https://localhost:8080/"
        },
        "id": "nKmChAM23eZO",
        "outputId": "ce4c1311-5c9e-4b44-a853-02bafe82ab6c"
      },
      "execution_count": 18,
      "outputs": [
        {
          "output_type": "stream",
          "name": "stdout",
          "text": [
            "set()\n"
          ]
        }
      ]
    },
    {
      "cell_type": "markdown",
      "source": [
        "### 18. Write a code to remove the element 4 from the set {1, 2, 3, 4}:"
      ],
      "metadata": {
        "id": "PfM5Pk-tZQt9"
      }
    },
    {
      "cell_type": "code",
      "source": [
        "my_set = {1, 2, 3, 4}\n",
        "my_set.remove(4)\n",
        "print(my_set)\n",
        "\n",
        "# Alternative way (discard doesn't raise an error if element not found)\n",
        "my_set = {1, 2, 3, 4}\n",
        "my_set.discard(4)\n",
        "print(my_set)"
      ],
      "metadata": {
        "colab": {
          "base_uri": "https://localhost:8080/"
        },
        "id": "eT4Vhee03mPL",
        "outputId": "dad59c2e-e606-4768-f808-3bcc195d8b64"
      },
      "execution_count": 19,
      "outputs": [
        {
          "output_type": "stream",
          "name": "stdout",
          "text": [
            "{1, 2, 3}\n",
            "{1, 2, 3}\n"
          ]
        }
      ]
    },
    {
      "cell_type": "markdown",
      "source": [
        "###19. Write a code to find the union of two sets {1, 2, 3} and {3, 4, 5}:"
      ],
      "metadata": {
        "id": "JqlulccjZQjA"
      }
    },
    {
      "cell_type": "code",
      "source": [
        "set1 = {1, 2, 3}\n",
        "set2 = {3, 4, 5}\n",
        "union_set = set1.union(set2)\n",
        "print(union_set)\n",
        "\n",
        "# Alternative way using the | operator\n",
        "union_set = set1 | set2\n",
        "print(union_set)"
      ],
      "metadata": {
        "colab": {
          "base_uri": "https://localhost:8080/"
        },
        "id": "lGb_0fMB3z4l",
        "outputId": "5dcaefbb-0f2e-4ab8-da98-0787f7df449b"
      },
      "execution_count": 20,
      "outputs": [
        {
          "output_type": "stream",
          "name": "stdout",
          "text": [
            "{1, 2, 3, 4, 5}\n",
            "{1, 2, 3, 4, 5}\n"
          ]
        }
      ]
    },
    {
      "cell_type": "markdown",
      "source": [
        "###print(union_set)  # Output: {1, 2, 3, 4, 5}\n",
        "20. Write a code to find the intersection of two sets {1, 2, 3} and {2, 3, 4}:"
      ],
      "metadata": {
        "id": "s4SFWhzBZQXC"
      }
    },
    {
      "cell_type": "code",
      "source": [
        "set1 = {1, 2, 3}\n",
        "set2 = {2, 3, 4}\n",
        "intersection_set = set1.intersection(set2)\n",
        "print(intersection_set)\n",
        "\n",
        "# Alternative way using the & operator\n",
        "intersection_set = set1 & set2\n",
        "print(intersection_set)"
      ],
      "metadata": {
        "colab": {
          "base_uri": "https://localhost:8080/"
        },
        "id": "RWV6dHgL4Bhn",
        "outputId": "bfa7f4ff-242f-49fb-ff3f-e9f2f2946da2"
      },
      "execution_count": 21,
      "outputs": [
        {
          "output_type": "stream",
          "name": "stdout",
          "text": [
            "{2, 3}\n",
            "{2, 3}\n"
          ]
        }
      ]
    },
    {
      "cell_type": "markdown",
      "source": [
        "###21. Write a code to create a dictionary with the keys \"name\", \"age\", and \"city\", and print it:"
      ],
      "metadata": {
        "id": "4w7wqGVYZQLN"
      }
    },
    {
      "cell_type": "code",
      "source": [
        "person = {\n",
        "    \"name\": \"padmanabh\",\n",
        "    \"age\": 25,\n",
        "    \"city\": \"moradabad \"\n",
        "}\n",
        "print(person)"
      ],
      "metadata": {
        "colab": {
          "base_uri": "https://localhost:8080/"
        },
        "id": "UMjeANcx4UrU",
        "outputId": "2cfcdbc9-6efb-458d-d1e2-d27ae3970739"
      },
      "execution_count": 22,
      "outputs": [
        {
          "output_type": "stream",
          "name": "stdout",
          "text": [
            "{'name': 'padmanabh', 'age': 25, 'city': 'moradabad '}\n"
          ]
        }
      ]
    },
    {
      "cell_type": "markdown",
      "source": [
        "### 22. Write a code to add a new key-value pair \"country\": \"USA\" to the dictionary {'name': 'John', 'age': 25}:"
      ],
      "metadata": {
        "id": "XA3Kv2SQZP_3"
      }
    },
    {
      "cell_type": "code",
      "source": [
        "person = {'name': 'padmanabh', 'age': 25}\n",
        "person['country'] = 'India'\n",
        "print(person)"
      ],
      "metadata": {
        "colab": {
          "base_uri": "https://localhost:8080/"
        },
        "id": "rPFN3FHR42eS",
        "outputId": "1b67552e-b876-4166-e725-02fa259b386b"
      },
      "execution_count": 24,
      "outputs": [
        {
          "output_type": "stream",
          "name": "stdout",
          "text": [
            "{'name': 'padmanabh', 'age': 25, 'country': 'India'}\n"
          ]
        }
      ]
    },
    {
      "cell_type": "markdown",
      "source": [
        "###23. Write a code to access the value associated with the key \"name\" in the dictionary {'name': 'Alice', 'age': 30}:\n"
      ],
      "metadata": {
        "id": "xjXsTK0xZPzR"
      }
    },
    {
      "cell_type": "code",
      "source": [
        "person = {'name': 'padmanabh', 'age': 30}\n",
        "name_value = person['name']\n",
        "print(name_value)\n",
        "# Alternative safer way using get()\n",
        "name_value = person.get('name')  # Returns None if key doesn't exist\n",
        "print(name_value)"
      ],
      "metadata": {
        "colab": {
          "base_uri": "https://localhost:8080/"
        },
        "id": "kJX6lpnN5CWz",
        "outputId": "edf416e1-2ffc-489f-a6b5-b957f56e4c5c"
      },
      "execution_count": 25,
      "outputs": [
        {
          "output_type": "stream",
          "name": "stdout",
          "text": [
            "padmanabh\n",
            "padmanabh\n"
          ]
        }
      ]
    },
    {
      "cell_type": "markdown",
      "source": [
        "###24. Write a code to remove the key \"age\" from the dictionary {'name': 'Bob', 'age': 22, 'city': 'New York'}:"
      ],
      "metadata": {
        "id": "DVIij3SbZPop"
      }
    },
    {
      "cell_type": "code",
      "source": [
        "person = {'name': 'padmanabh', 'age': 25, 'city': 'moradabad'}\n",
        "del person['age']\n",
        "print(person)\n",
        "\n",
        "# Alternative way\n",
        "person = {'name': 'divyanshu', 'age': 22, 'city': 'agra'}\n",
        "removed_value = person.pop('age')\n",
        "print(person)\n",
        "print(removed_value)"
      ],
      "metadata": {
        "colab": {
          "base_uri": "https://localhost:8080/"
        },
        "id": "44Gex_3g5LKz",
        "outputId": "86f769fd-f1e6-4eb7-c517-76c7874f7a23"
      },
      "execution_count": 26,
      "outputs": [
        {
          "output_type": "stream",
          "name": "stdout",
          "text": [
            "{'name': 'padmanabh', 'city': 'moradabad'}\n",
            "{'name': 'divyanshu', 'city': 'agra'}\n",
            "22\n"
          ]
        }
      ]
    },
    {
      "cell_type": "markdown",
      "source": [
        "###25. Write a code to check if the key \"city\" exists in the dictionary {'name': 'Alice', 'city': 'Paris'}:"
      ],
      "metadata": {
        "id": "tRkpIDguZPa1"
      }
    },
    {
      "cell_type": "code",
      "source": [
        "person = {'name': 'padmanabh', 'city': 'moradabad'}\n",
        "has_city = 'city' in person\n",
        "print(has_city)\n",
        "\n",
        "# Alternative way\n",
        "has_city = person.get('city') is not None\n",
        "print(has_city)"
      ],
      "metadata": {
        "colab": {
          "base_uri": "https://localhost:8080/"
        },
        "id": "Xewojh0d5kHb",
        "outputId": "aa73cde5-43d4-425b-f6dd-620dff301d5b"
      },
      "execution_count": 27,
      "outputs": [
        {
          "output_type": "stream",
          "name": "stdout",
          "text": [
            "True\n",
            "True\n"
          ]
        }
      ]
    },
    {
      "cell_type": "markdown",
      "source": [
        "### 26. Write a code to create a list, a tuple, and a dictionary, and print them all:"
      ],
      "metadata": {
        "id": "_iwdLTB6ZPQT"
      }
    },
    {
      "cell_type": "code",
      "source": [
        "my_list = [1, 2, 3]\n",
        "my_tuple = ('a', 'b', 'c')\n",
        "my_dict = {'name': 'padmanabh', 'age': 25}\n",
        "\n",
        "print(\"List:\", my_list)\n",
        "print(\"Tuple:\", my_tuple)\n",
        "print(\"Dictionary:\", my_dict)\n",
        "\n"
      ],
      "metadata": {
        "colab": {
          "base_uri": "https://localhost:8080/"
        },
        "id": "OjTz4PAl5rUh",
        "outputId": "c22e886f-3616-4a81-f232-d4edf020cdd5"
      },
      "execution_count": 28,
      "outputs": [
        {
          "output_type": "stream",
          "name": "stdout",
          "text": [
            "List: [1, 2, 3]\n",
            "Tuple: ('a', 'b', 'c')\n",
            "Dictionary: {'name': 'padmanabh', 'age': 25}\n"
          ]
        }
      ]
    },
    {
      "cell_type": "markdown",
      "source": [
        "###27. Write a code to create a list of 5 random numbers between 1 and 100, sort it in ascending order, and print the result"
      ],
      "metadata": {
        "id": "Eo_9IvAOZPEe"
      }
    },
    {
      "cell_type": "code",
      "source": [
        "import random\n",
        "\n",
        "# Generate 5 random numbers between 1 and 100\n",
        "random_numbers = [random.randint(1, 100) for _ in range(5)]\n",
        "print(\"Original random numbers:\", random_numbers)\n",
        "\n",
        "# Sort the list in ascending order\n",
        "random_numbers.sort()\n",
        "print(\"Sorted numbers:\", random_numbers)\n",
        "\n",
        "# Alternative way\n",
        "random_numbers = [random.randint(1, 100) for _ in range(5)]\n",
        "sorted_numbers = sorted(random_numbers)  # This creates a new sorted list\n",
        "print(\"Original:\", random_numbers)\n",
        "print(\"Sorted:\", sorted_numbers)"
      ],
      "metadata": {
        "colab": {
          "base_uri": "https://localhost:8080/"
        },
        "id": "XnYtCpOH6SCU",
        "outputId": "ae0362f5-a217-4823-d846-efa8e6792ccd"
      },
      "execution_count": 29,
      "outputs": [
        {
          "output_type": "stream",
          "name": "stdout",
          "text": [
            "Original random numbers: [72, 6, 61, 91, 72]\n",
            "Sorted numbers: [6, 61, 72, 72, 91]\n",
            "Original: [38, 94, 80, 85, 45]\n",
            "Sorted: [38, 45, 80, 85, 94]\n"
          ]
        }
      ]
    },
    {
      "cell_type": "markdown",
      "source": [
        "###28. Write a code to create a list with strings and print the element at the third index:"
      ],
      "metadata": {
        "id": "0aL0kXZvZO5B"
      }
    },
    {
      "cell_type": "code",
      "source": [
        "fruits = [\"apple\", \"banana\", \"cherry\", \"date\", \"elderberry\", \"fig\"]\n",
        "third_index_element = fruits[3]\n",
        "print(f\"The element at index 3 is: {third_index_element}\")  #"
      ],
      "metadata": {
        "colab": {
          "base_uri": "https://localhost:8080/"
        },
        "id": "XUYF5otd6Y2y",
        "outputId": "438560dd-ae69-49f0-acba-862eaf293cf8"
      },
      "execution_count": 30,
      "outputs": [
        {
          "output_type": "stream",
          "name": "stdout",
          "text": [
            "The element at index 3 is: date\n"
          ]
        }
      ]
    },
    {
      "cell_type": "markdown",
      "source": [
        "###29. Write a code to combine two dictionaries into one and print the result:"
      ],
      "metadata": {
        "id": "IIzDVSwjZOs5"
      }
    },
    {
      "cell_type": "code",
      "source": [
        "dict1 = {'a': 1, 'b': 2}\n",
        "dict2 = {'c': 3, 'd': 4}\n",
        "\n",
        "# Method 1: Using update()\n",
        "combined_dict1 = dict1.copy()  # Create a copy to avoid modifying the original\n",
        "combined_dict1.update(dict2)\n",
        "print(\"Combined dictionary (method 1):\", combined_dict1)\n",
        "\n",
        "# Method 2: Using dictionary unpacking\n",
        "combined_dict2 = {**dict1, **dict2}\n",
        "print(\"Combined dictionary (method 2):\", combined_dict2)\n",
        "\n",
        "# Method 3: Using the | operator\n",
        "combined_dict3 = dict1 | dict2\n",
        "print(\"Combined dictionary (method 3):\", combined_dict3)\n",
        "\n"
      ],
      "metadata": {
        "colab": {
          "base_uri": "https://localhost:8080/"
        },
        "id": "CWrrJUjX6h-R",
        "outputId": "992c5db0-eea5-4307-8878-ceaea3a8cf2d"
      },
      "execution_count": 31,
      "outputs": [
        {
          "output_type": "stream",
          "name": "stdout",
          "text": [
            "Combined dictionary (method 1): {'a': 1, 'b': 2, 'c': 3, 'd': 4}\n",
            "Combined dictionary (method 2): {'a': 1, 'b': 2, 'c': 3, 'd': 4}\n",
            "Combined dictionary (method 3): {'a': 1, 'b': 2, 'c': 3, 'd': 4}\n"
          ]
        }
      ]
    },
    {
      "cell_type": "markdown",
      "source": [
        "###30. Write a code to convert a list of strings into a set:"
      ],
      "metadata": {
        "id": "i0aVyCt6ZOhc"
      }
    },
    {
      "cell_type": "code",
      "source": [
        "string_list = [\"apple\", \"banana\", \"apple\", \"cherry\", \"banana\"]\n",
        "string_set = set(string_list)\n",
        "print(\"Original list:\", string_list)\n",
        "print(\"Converted to set:\", string_set)\n",
        "\n"
      ],
      "metadata": {
        "colab": {
          "base_uri": "https://localhost:8080/"
        },
        "id": "uaqrHH-y63SC",
        "outputId": "fc222b3d-9ca5-404e-b767-917e53090c23"
      },
      "execution_count": 32,
      "outputs": [
        {
          "output_type": "stream",
          "name": "stdout",
          "text": [
            "Original list: ['apple', 'banana', 'apple', 'cherry', 'banana']\n",
            "Converted to set: {'apple', 'banana', 'cherry'}\n"
          ]
        }
      ]
    }
  ]
}