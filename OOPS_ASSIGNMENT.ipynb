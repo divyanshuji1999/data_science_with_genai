{
  "nbformat": 4,
  "nbformat_minor": 0,
  "metadata": {
    "colab": {
      "provenance": []
    },
    "kernelspec": {
      "name": "python3",
      "display_name": "Python 3"
    },
    "language_info": {
      "name": "python"
    }
  },
  "cells": [
    {
      "cell_type": "markdown",
      "source": [
        "#**OOPS ASSIGNMENT**\n",
        "\n"
      ],
      "metadata": {
        "id": "BPwoR6ehUA1K"
      }
    },
    {
      "cell_type": "markdown",
      "source": [
        "##**Theory Question**"
      ],
      "metadata": {
        "id": "IGzCkANzUWIk"
      }
    },
    {
      "cell_type": "markdown",
      "source": [
        "###**Question 1: What is Object-Oriented Programming (OOP)**?\n",
        "Answer: Object-Oriented Programming is a programming approach that uses objects and classes. It's all about creating code that models real-world things as objects with properties and behaviors. OOP makes code more organized and reusable through principles like encapsulation, inheritance, polymorphism, and abstraction."
      ],
      "metadata": {
        "id": "NU5kK6NXUpOg"
      }
    },
    {
      "cell_type": "markdown",
      "source": [
        "###**Question 2: What is a class in OOP?**\n",
        "Answer: A class is basically a blueprint for creating objects. Think of it like a template that defines what properties (attributes) and actions (methods) objects of that type will have. For example, a Car class might include attributes like color and model, and methods like drive() and brake()."
      ],
      "metadata": {
        "id": "4SMlL_qYlBqv"
      }
    },
    {
      "cell_type": "code",
      "source": [
        "class Car:\n",
        "    def __init__(self, make, model):\n",
        "        self.make = make\n",
        "        self.model = model\n",
        "\n",
        "    def display_info(self):\n",
        "        return f\"{self.make} {self.model}\""
      ],
      "metadata": {
        "id": "ItNnuyiunDCf"
      },
      "execution_count": 2,
      "outputs": []
    },
    {
      "cell_type": "markdown",
      "source": [
        "###**Question 3: What is an object in OOP?**\n",
        "Answer: An object is an instance of a class - it's the actual thing created from the class blueprint. If a class is like a cookie cutter, an object is like the cookie. Each object has its own values for the attributes defined in the class. When you create a Car object, you're making a specific car with its own make and model"
      ],
      "metadata": {
        "id": "02ul_6JGlmUL"
      }
    },
    {
      "cell_type": "code",
      "source": [
        "toyota = Car(\"Toyota\", \"Corolla\")  # This is an object"
      ],
      "metadata": {
        "id": "LzNQ7QOLnM1l"
      },
      "execution_count": 3,
      "outputs": []
    },
    {
      "cell_type": "markdown",
      "source": [
        "###**Question 4: What is the difference between abstraction and encapsulation?**\n",
        "Answer: Abstraction and encapsulation are related but different:\n",
        "\n",
        "- Abstraction is about simplifying complex reality by showing only what's necessary. It's like driving a car - I just need to know about the steering wheel and pedals, not the engine internals.\n",
        "\n",
        "- Encapsulation is about bundling data and methods together and restricting access to internal details. It's like putting a protective shell around your object's data to control how it's accessed and modified.\n",
        "\n",
        "Both hide complexity, but abstraction is about simplification while encapsulation is about protection."
      ],
      "metadata": {
        "id": "NKuiuL1enbG8"
      }
    },
    {
      "cell_type": "markdown",
      "source": [
        "###**Question 5: What are dunder methods in Python?**\n",
        "Answer: Dunder methods (double underscore methods) are special built-in methods in Python that start and end with double underscores. They're also called magic methods because they let me define how your objects behave with built-in Python operations. Some common ones are:\n",
        "\n",
        "- `__init__` for initializing objects\n",
        "- `__str__ `for string representation\n",
        "- `__len__` for getting length\n",
        "- `__add__` for addition operation\n",
        "They're super useful for making custom objects behave like built-in types.\n",
        "\n"
      ],
      "metadata": {
        "id": "fC_6dCc9noyf"
      }
    },
    {
      "cell_type": "markdown",
      "source": [
        "###**Question 6: Explain the concept of inheritance in OOP**\n",
        "Answer: Inheritance lets a class (child class) acquire the properties and methods of another class (parent class). It's a way to create new classes that are built upon existing classes.\n",
        "\n",
        "For example, if I have a Vehicle class, you could create Car and Motorcycle classes that inherit from it. Both would get the common Vehicle features, but I can add specific features to each child class."
      ],
      "metadata": {
        "id": "kAjL86adn9cJ"
      }
    },
    {
      "cell_type": "code",
      "source": [
        "class Vehicle:\n",
        "    def __init__(self, brand):\n",
        "        self.brand = brand\n",
        "\n",
        "class Car(Vehicle):  # Car inherits from Vehicle\n",
        "    def __init__(self, brand, model):\n",
        "        super().__init__(brand)\n",
        "        self.model = model"
      ],
      "metadata": {
        "id": "kYoPCXl1nTV7"
      },
      "execution_count": 4,
      "outputs": []
    },
    {
      "cell_type": "markdown",
      "source": [
        "###**Question 7: What is polymorphism in OOP?**\n",
        "Answer: Polymorphism means **\"many forms\"** and it allows objects of different types to be treated as objects of a common type. It's about using a single interface for different underlying implementations.\n",
        "\n",
        "A simple example is how different animals make different sounds. I can call the same method (like make_sound()) on different animal objects, and each will respond differently:"
      ],
      "metadata": {
        "id": "Se0avUBipOvh"
      }
    },
    {
      "cell_type": "code",
      "source": [
        "class Dog:\n",
        "    def make_sound(self):\n",
        "        return \"Woof!\"\n",
        "\n",
        "class Cat:\n",
        "    def make_sound(self):\n",
        "        return \"Meow!\"\n",
        "\n",
        "animals = [Dog(), Cat()]\n",
        "for animal in animals:\n",
        "    print(animal.make_sound())  # Each animal makes its own sound"
      ],
      "metadata": {
        "colab": {
          "base_uri": "https://localhost:8080/"
        },
        "id": "jpLrCP76pb6T",
        "outputId": "f6e47dab-6c5b-4bc1-9ac4-90775b640873"
      },
      "execution_count": 5,
      "outputs": [
        {
          "output_type": "stream",
          "name": "stdout",
          "text": [
            "Woof!\n",
            "Meow!\n"
          ]
        }
      ]
    },
    {
      "cell_type": "markdown",
      "source": [
        "###**Question 8: How is encapsulation achieved in Python?**\n",
        "Answer: Python uses naming conventions for encapsulation:\n",
        "\n",
        "Regular attributes/methods are public\n",
        "Names with a single underscore prefix (_name) suggest that they're protected (a convention)\n",
        "Names with double underscores (__name) are name-mangled to make them harder to access from outside"
      ],
      "metadata": {
        "id": "K7voQEM2phuP"
      }
    },
    {
      "cell_type": "code",
      "source": [
        "class BankAccount:\n",
        "    def __init__(self, balance):\n",
        "        self.balance = balance        # Public\n",
        "        self._transactions = []        # Protected (by convention)\n",
        "        self.__security_code = \"1234\"  # Private (name-mangled)"
      ],
      "metadata": {
        "id": "LQr8Hi4RpmbO"
      },
      "execution_count": 6,
      "outputs": []
    },
    {
      "cell_type": "markdown",
      "source": [
        "###**Question 9: What is a constructor in Python?**\n",
        "Answer: A constructor is the method that gets called when I create a new object. In Python, the `__init__` method serves as the constructor. It initializes the new object with any attributes I want to set up from the start:"
      ],
      "metadata": {
        "id": "3D_YOxzyqGoj"
      }
    },
    {
      "cell_type": "code",
      "source": [
        "class Person:\n",
        "    def __init__(self, name, age):  # This is the constructor\n",
        "        self.name = name\n",
        "        self.age = age\n",
        "\n",
        "# The constructor runs automatically when creating an object\n",
        "person1 = Person(\"Alex\", 30)"
      ],
      "metadata": {
        "id": "b0-9WxCoqCWB"
      },
      "execution_count": 7,
      "outputs": []
    },
    {
      "cell_type": "markdown",
      "source": [
        "###**Question 10: What are class and static methods in Python?**\n",
        "Answer: Python has three types of methods:\n",
        "\n",
        "- Regular instance methods take 'self' and can access/modify instance attributes\n",
        "- Class methods (decorated with @classmethod) take 'cls' as their first parameter and can access/modify class variables\n",
        "- Static methods (decorated with @staticmethod) don't take 'self' or 'cls' - they're just utility functions that happen to be in the class namespace"
      ],
      "metadata": {
        "id": "_lIUbKkrqkLr"
      }
    },
    {
      "cell_type": "code",
      "source": [
        "class MathTools:\n",
        "    pi = 3.14159\n",
        "\n",
        "    def __init__(self, value):\n",
        "        self.value = value\n",
        "\n",
        "    def double(self):  # Instance method\n",
        "        return self.value * 2\n",
        "\n",
        "    @classmethod\n",
        "    def get_pi(cls):  # Class method\n",
        "        return cls.pi\n",
        "\n",
        "    @staticmethod\n",
        "    def add(x, y):  # Static method\n",
        "        return x + y"
      ],
      "metadata": {
        "id": "PKRJVoZ8qaLf"
      },
      "execution_count": 8,
      "outputs": []
    },
    {
      "cell_type": "markdown",
      "source": [
        "###**Question 11: What is method overloading in Python?**\n",
        "Answer: Method overloading is having multiple methods with the same name but different parameters. Python doesn't support traditional method overloading like some other languages. Instead, I can simulate it by using default arguments, variable-length arguments (*args, **kwargs), or by checking the parameter types inside the method."
      ],
      "metadata": {
        "id": "epJI0hBJq6Pu"
      }
    },
    {
      "cell_type": "code",
      "source": [
        "class Calculator:\n",
        "    def add(self, *args):\n",
        "        return sum(args)\n",
        "\n",
        "# Same method handles different numbers of arguments\n",
        "calc = Calculator()\n",
        "print(calc.add(2, 3))\n",
        "print(calc.add(2, 3, 4, 5))"
      ],
      "metadata": {
        "colab": {
          "base_uri": "https://localhost:8080/"
        },
        "id": "jeHnm-Gkq5rO",
        "outputId": "b1e3a1f6-f4a7-459d-c482-d52e1c95b1a0"
      },
      "execution_count": 9,
      "outputs": [
        {
          "output_type": "stream",
          "name": "stdout",
          "text": [
            "5\n",
            "14\n"
          ]
        }
      ]
    },
    {
      "cell_type": "markdown",
      "source": [
        "###**Question 12: What is method overriding in OOP?**\n",
        "Answer: Method overriding occurs when a child class provides a specific implementation for a method that's already defined in its parent class. When I override a method, I replace the parent's implementation with my own in the child class."
      ],
      "metadata": {
        "id": "Q8BOQSXHrS-Z"
      }
    },
    {
      "cell_type": "code",
      "source": [
        "class Animal:\n",
        "    def make_sound(self):\n",
        "        return \"Some generic sound\"\n",
        "\n",
        "class Dog(Animal):\n",
        "    def make_sound(self):  # This overrides the parent method\n",
        "        return \"Woof!\""
      ],
      "metadata": {
        "id": "Oi2GLRBdrPqo"
      },
      "execution_count": 10,
      "outputs": []
    },
    {
      "cell_type": "markdown",
      "source": [
        "###**Question 13: What is a property decorator in Python?**\n",
        "Answer: The property decorator (@property) lets me define methods that act like attributes. It's a way to implement getters, setters, and deleters for class attributes without changing how I access them in my code."
      ],
      "metadata": {
        "id": "1hoq5zUrrbLo"
      }
    },
    {
      "cell_type": "code",
      "source": [
        "class Person:\n",
        "    def __init__(self, name):\n",
        "        self._name = name\n",
        "\n",
        "    @property\n",
        "    def name(self):\n",
        "        return self._name\n",
        "\n",
        "    @name.setter\n",
        "    def name(self, value):\n",
        "        if not isinstance(value, str):\n",
        "            raise TypeError(\"Name must be a string\")\n",
        "        self._name = value\n",
        "\n",
        "# I can use it like an attribute, but it's actually calling methods\n",
        "person = Person(\"John\")\n",
        "print(person.name)  # Calls the getter\n",
        "person.name = \"Jane\"  # Calls the setter"
      ],
      "metadata": {
        "colab": {
          "base_uri": "https://localhost:8080/"
        },
        "id": "jj10k_-3rWtk",
        "outputId": "48703235-b316-4235-881c-b5ff1c1631c0"
      },
      "execution_count": 11,
      "outputs": [
        {
          "output_type": "stream",
          "name": "stdout",
          "text": [
            "John\n"
          ]
        }
      ]
    },
    {
      "cell_type": "markdown",
      "source": [
        "###**Question 14: Why is polymorphism important in OOP?**\n",
        "Answer: Polymorphism is important because it allows for:\n",
        "\n",
        "Code flexibility and reusability\n",
        "Writing more generic and abstract code\n",
        "Implementing interfaces that can work with objects of different types\n",
        "Extension of functionality without modifying existing code\n",
        "It enables me to write code that can operate on objects of various classes as long as they support the same interface, which makes my code more modular and maintainable."
      ],
      "metadata": {
        "id": "-o-9XR1rrlwO"
      }
    },
    {
      "cell_type": "markdown",
      "source": [
        "###**Question 15: What is an abstract class in Python?**\n",
        "Answer: An abstract class is a class that cannot be instantiated directly and is designed to be subclassed. It often contains one or more abstract methods that must be implemented by its subclasses. In Python, I create abstract classes using the ABC module.\n",
        "\n",
        "\n"
      ],
      "metadata": {
        "id": "Qq9GZcU6rrez"
      }
    },
    {
      "cell_type": "code",
      "source": [
        "from abc import ABC, abstractmethod\n",
        "\n",
        "class Shape(ABC):\n",
        "    @abstractmethod\n",
        "    def area(self):\n",
        "        pass\n",
        "\n",
        "    @abstractmethod\n",
        "    def perimeter(self):\n",
        "        pass\n",
        "\n",
        "class Rectangle(Shape):\n",
        "    def __init__(self, width, height):\n",
        "        self.width = width\n",
        "        self.height = height\n",
        "\n",
        "    def area(self):\n",
        "        return self.width * self.height\n",
        "\n",
        "    def perimeter(self):\n",
        "        return 2 * (self.width + self.height)"
      ],
      "metadata": {
        "id": "RhJIY_UwrfEr"
      },
      "execution_count": 12,
      "outputs": []
    },
    {
      "cell_type": "markdown",
      "source": [
        "        return 2 * (self.width + self.height)\n",
        "###**Question 16: What are the advantages of OOP?**\n",
        "Answer: The main advantages of OOP include:\n",
        "\n",
        "- Modularity: Code is organized into objects that can be maintained separately\n",
        "- Reusability: Through inheritance and composition\n",
        "- Maintainability: Changes in one part don't affect other parts\n",
        "- Encapsulation: Data hiding prevents accidental modification\n",
        "- Abstraction: Complex systems can be modeled at higher levels\n",
        "- Polymorphism: Same interface for different implementations\n",
        "- Real-world modeling: Natural way to represent entities and their relationships.\n",
        "\n",
        "These advantages make OOP suitable for large and complex software systems."
      ],
      "metadata": {
        "id": "0jw4w7QOr1yg"
      }
    },
    {
      "cell_type": "markdown",
      "source": [
        "###**Question 17: What is the difference between a class variable and an instance variable?**\n",
        "Answer: The key differences are:\n",
        "\n",
        "Class variables:\n",
        "\n",
        "- Defined at the class level, outside any methods\n",
        "- Shared among all instances of the class\n",
        "- Accessed via Class.variable or self.variable (though the latter can create issues)\n",
        "- Memory efficient when the value should be the same for all instances\n",
        "\n",
        "Instance variables:\n",
        "- Defined inside methods, typically in init\n",
        "- Unique to each instance of the class\n",
        "- Accessed via self.variable\n",
        "- Allow each object to have its own state"
      ],
      "metadata": {
        "id": "MbFyDOi0r1et"
      }
    },
    {
      "cell_type": "code",
      "source": [
        "class Student:\n",
        "    school_name = \"Python High\"  # Class variable\n",
        "\n",
        "    def __init__(self, name, grade):\n",
        "        self.name = name    # Instance variable\n",
        "        self.grade = grade  # Instance variable"
      ],
      "metadata": {
        "id": "7R9deowWsZDj"
      },
      "execution_count": 13,
      "outputs": []
    },
    {
      "cell_type": "markdown",
      "source": [
        "###**Question 18: What is multiple inheritance in Python?**\n",
        "Answer: Multiple inheritance is when a class inherits from more than one parent class. It allows a class to combine attributes and methods from multiple sources. Python uses the Method Resolution Order (MRO) and the C3 linearization algorithm to determine the order in which methods are resolved."
      ],
      "metadata": {
        "id": "NvPj_-wHsfNe"
      }
    },
    {
      "cell_type": "code",
      "source": [
        "class Swimmer:\n",
        "    def swim(self):\n",
        "        return \"Swimming\"\n",
        "\n",
        "class Flyer:\n",
        "    def fly(self):\n",
        "        return \"Flying\"\n",
        "\n",
        "class Duck(Swimmer, Flyer):  # Multiple inheritance\n",
        "    def quack(self):\n",
        "        return \"Quack\"\n",
        "\n",
        "duck = Duck()\n",
        "print(duck.swim())\n",
        "print(duck.fly())\n",
        "print(duck.quack())"
      ],
      "metadata": {
        "colab": {
          "base_uri": "https://localhost:8080/"
        },
        "id": "YK9qTJSQsZ-g",
        "outputId": "dc190988-6c68-48d4-ce2f-436a86f3085e"
      },
      "execution_count": 14,
      "outputs": [
        {
          "output_type": "stream",
          "name": "stdout",
          "text": [
            "Swimming\n",
            "Flying\n",
            "Quack\n"
          ]
        }
      ]
    },
    {
      "cell_type": "markdown",
      "source": [
        "###**Question 19: Explain the purpose of 'str' and 'repr' methods in Python**\n",
        "Answer: Both methods return string representations of objects, but they serve different purposes:\n",
        "\n",
        "`__str__`: Defines the \"informal\" string representation of an object. It's meant to be readable for end users and is called by str() and print().\n",
        "\n",
        "`__repr__`: Defines the \"official\" string representation of an object. It should ideally contain information to recreate the object and is called by repr()."
      ],
      "metadata": {
        "id": "6PkER2B4srb2"
      }
    },
    {
      "cell_type": "code",
      "source": [
        "class Point:\n",
        "    def __init__(self, x, y):\n",
        "        self.x = x\n",
        "        self.y = y\n",
        "\n",
        "    def __str__(self):\n",
        "        return f\"Point at ({self.x}, {self.y})\"\n",
        "\n",
        "    def __repr__(self):\n",
        "        return f\"Point({self.x}, {self.y})\"\n",
        "\n",
        "p = Point(3, 4)\n",
        "print(str(p))\n",
        "print(repr(p))"
      ],
      "metadata": {
        "colab": {
          "base_uri": "https://localhost:8080/"
        },
        "id": "BfpV7EiHsod_",
        "outputId": "841954da-4c9a-40b6-ac5a-8f0d991f05cb"
      },
      "execution_count": 15,
      "outputs": [
        {
          "output_type": "stream",
          "name": "stdout",
          "text": [
            "Point at (3, 4)\n",
            "Point(3, 4)\n"
          ]
        }
      ]
    },
    {
      "cell_type": "markdown",
      "source": [
        "###**Question 20: What is the significance of the 'super()' function in Python?**\n",
        "Answer: The super() function allows me to call methods from a parent class. It's particularly useful in inheritance scenarios when I want to extend functionality rather than completely replace it. Key benefits include:\n",
        "\n",
        "Avoiding hardcoded parent class names, making code more maintainable\n",
        "Supporting multiple inheritance by working with Python's MRO\n",
        "Preventing duplicate method calls in diamond inheritance structures\n"
      ],
      "metadata": {
        "id": "rX2hpqLgs_GC"
      }
    },
    {
      "cell_type": "code",
      "source": [
        "class Parent:\n",
        "    def greet(self):\n",
        "        return \"Hello from Parent\"\n",
        "\n",
        "class Child(Parent):\n",
        "    def greet(self):\n",
        "        parent_greeting = super().greet()\n",
        "        return f\"{parent_greeting} and Child\"\n",
        "\n",
        "child = Child()\n",
        "print(child.greet())"
      ],
      "metadata": {
        "colab": {
          "base_uri": "https://localhost:8080/"
        },
        "id": "k_Nzv_WWs5j_",
        "outputId": "02e6d74a-e148-4aa4-9b03-a93466f54e71"
      },
      "execution_count": 16,
      "outputs": [
        {
          "output_type": "stream",
          "name": "stdout",
          "text": [
            "Hello from Parent and Child\n"
          ]
        }
      ]
    },
    {
      "cell_type": "markdown",
      "source": [
        "###**Question 21: What is the significance of the del method in Python?**\n",
        "Answer: The ` __del__ `method is a special method that works as a destructor in Python. It's called when an object is about to be destroyed (garbage collected). I can use it to handle cleanup operations like closing files, releasing resources, or disconnecting from databases. However, it's generally better to use context managers (with statements) for resource management since `__del__` isn't guaranteed to be called in all situations.\n",
        "\n"
      ],
      "metadata": {
        "id": "3SDOgfKKtWo9"
      }
    },
    {
      "cell_type": "code",
      "source": [
        "class FileHandler:\n",
        "    def __init__(self, filename):\n",
        "        self.file = open(filename, 'w')\n",
        "\n",
        "    def write(self, text):\n",
        "        self.file.write(text)\n",
        "\n",
        "    def __del__(self):\n",
        "        print(\"Closing file\")\n",
        "        self.file.close()"
      ],
      "metadata": {
        "id": "6M5jUmZxtMBZ"
      },
      "execution_count": 17,
      "outputs": []
    },
    {
      "cell_type": "markdown",
      "source": [
        "###**Question 22: What is the difference between @staticmethod and @classmethod in Python?**\n",
        "Answer: The main differences are:\n",
        "\n",
        "`@staticmethod`:\n",
        "\n",
        "- Doesn't take a mandatory first argument\n",
        "- Cannot access or modify class state\n",
        "- Behaves like a regular function but belongs to the class namespace\n",
        "- Used for utility functions related to the class but not dependent on class state\n",
        "\n",
        "`@classmethod`:\n",
        "\n",
        "- Takes the class itself as the first argument (usually named cls)\n",
        "- Can access and modify class variables\n",
        "- Can be used as alternative constructors\n",
        "- Works with inheritance (cls refers to the actual class that was used to call the method)"
      ],
      "metadata": {
        "id": "za5UkJjgtruO"
      }
    },
    {
      "cell_type": "code",
      "source": [
        "class Date:\n",
        "    def __init__(self, day, month, year):\n",
        "        self.day = day\n",
        "        self.month = month\n",
        "        self.year = year\n",
        "\n",
        "    @staticmethod\n",
        "    def is_valid_date(day, month, year):\n",
        "        # Static utility method that doesn't need class or instance data\n",
        "        return 1 <= day <= 31 and 1 <= month <= 12 and year > 0\n",
        "\n",
        "    @classmethod\n",
        "    def from_string(cls, date_string):\n",
        "        # Class method used as an alternative constructor\n",
        "        day, month, year = map(int, date_string.split('-'))\n",
        "        return cls(day, month, year)"
      ],
      "metadata": {
        "id": "3x6AASu5tnuc"
      },
      "execution_count": 18,
      "outputs": []
    },
    {
      "cell_type": "markdown",
      "source": [
        "###**Question 23: How does polymorphism work in Python with inheritance?**\n",
        "Answer: In Python, polymorphism with inheritance works through method overriding. When a subclass provides a specific implementation for a method that's already defined in its parent class, I can use the subclass object wherever the parent class is expected, and the appropriate method implementation will be called.\n",
        "\n",
        "This creates a consistent interface while allowing different behaviors:"
      ],
      "metadata": {
        "id": "O92UBxPfuMbc"
      }
    },
    {
      "cell_type": "code",
      "source": [
        "class Shape:\n",
        "    def area(self):\n",
        "        pass\n",
        "\n",
        "class Rectangle(Shape):\n",
        "    def __init__(self, width, height):\n",
        "        self.width = width\n",
        "        self.height = height\n",
        "\n",
        "    def area(self):\n",
        "        return self.width * self.height\n",
        "\n",
        "class Circle(Shape):\n",
        "    def __init__(self, radius):\n",
        "        self.radius = radius\n",
        "\n",
        "    def area(self):\n",
        "        return 3.14 * self.radius * self.radius\n",
        "\n",
        "# Polymorphic function that works with any Shape\n",
        "def print_area(shape):\n",
        "    print(f\"Area: {shape.area()}\")\n",
        "\n",
        "# Works with different Shape subclasses\n",
        "print_area(Rectangle(5, 4))\n",
        "print_area(Circle(3))"
      ],
      "metadata": {
        "colab": {
          "base_uri": "https://localhost:8080/"
        },
        "id": "mIWi0jCVuQcw",
        "outputId": "41f791e0-aba8-4126-f6e3-17879aaee1ce"
      },
      "execution_count": 19,
      "outputs": [
        {
          "output_type": "stream",
          "name": "stdout",
          "text": [
            "Area: 20\n",
            "Area: 28.259999999999998\n"
          ]
        }
      ]
    },
    {
      "cell_type": "markdown",
      "source": [
        "###**Question 24: What is method chaining in Python OOP?**\n",
        "Answer: Method chaining is a programming pattern where I call multiple methods in sequence on the same object. Each method returns self (the object itself), allowing me to chain another method call immediately after. This creates more concise and readable code by reducing the need to repeat the object name."
      ],
      "metadata": {
        "id": "ewbq-1i6uZA7"
      }
    },
    {
      "cell_type": "code",
      "source": [
        "class Calculator:\n",
        "    def __init__(self):\n",
        "        self.result = 0\n",
        "\n",
        "    def add(self, value):\n",
        "        self.result += value\n",
        "        return self\n",
        "\n",
        "    def subtract(self, value):\n",
        "        self.result -= value\n",
        "        return self\n",
        "\n",
        "    def multiply(self, value):\n",
        "        self.result *= value\n",
        "        return self\n",
        "\n",
        "    def get_result(self):\n",
        "        return self.result\n",
        "\n",
        "# Without chaining\n",
        "calc = Calculator()\n",
        "calc.add(5)\n",
        "calc.subtract(2)\n",
        "calc.multiply(3)\n",
        "print(calc.get_result())  # 9\n",
        "\n",
        "# With chaining\n",
        "result = Calculator().add(5).subtract(2).multiply(3).get_result()\n",
        "print(result)  # 9"
      ],
      "metadata": {
        "colab": {
          "base_uri": "https://localhost:8080/"
        },
        "id": "v2LgNv7Puckm",
        "outputId": "0037ddee-00dd-4b46-8b6a-8b4887191e38"
      },
      "execution_count": 20,
      "outputs": [
        {
          "output_type": "stream",
          "name": "stdout",
          "text": [
            "9\n",
            "9\n"
          ]
        }
      ]
    },
    {
      "cell_type": "markdown",
      "source": [
        "###**Question 25: What is the purpose of the call method in Python?**\n",
        "Answer: The __call__ method allows an object to be called like a function. When I define this method in a class, instances of that class become callable. This is useful for creating function-like objects (functors) that maintain state between calls or have configurable behavior."
      ],
      "metadata": {
        "id": "72XbpAjKuhNg"
      }
    },
    {
      "cell_type": "code",
      "source": [
        "class Counter:\n",
        "    def __init__(self, start=0):\n",
        "        self.count = start\n",
        "\n",
        "    def __call__(self):\n",
        "        self.count += 1\n",
        "        return self.count\n",
        "\n",
        "counter = Counter()\n",
        "print(counter())  # 1\n",
        "print(counter())  # 2\n",
        "print(counter())  # 3\n",
        "\n",
        "# The object behaves like a function but maintains state"
      ],
      "metadata": {
        "colab": {
          "base_uri": "https://localhost:8080/"
        },
        "id": "CerCwJlBujuB",
        "outputId": "07fb55a3-04ab-410d-c3c6-e08eb372560a"
      },
      "execution_count": 21,
      "outputs": [
        {
          "output_type": "stream",
          "name": "stdout",
          "text": [
            "1\n",
            "2\n",
            "3\n"
          ]
        }
      ]
    },
    {
      "cell_type": "markdown",
      "source": [
        "The `__call__` method is also commonly used in implementing decorators, callback functions, and creating objects that need to be both data containers and callable processors of that data."
      ],
      "metadata": {
        "id": "JcZkkUsXu6BD"
      }
    },
    {
      "cell_type": "markdown",
      "source": [
        "#**Practical Question - Answer**"
      ],
      "metadata": {
        "id": "QJVZqhVFuoAw"
      }
    },
    {
      "cell_type": "markdown",
      "source": [
        "###**Question 1: Create a parent class Animal with a method speak() that prints a generic message. Create a child class Dog that overrides the speak() method to print \"Bark!\".**\n"
      ],
      "metadata": {
        "id": "bL9xIt_Hu0yl"
      }
    },
    {
      "cell_type": "code",
      "source": [
        "class Animal:\n",
        "    def speak(self):\n",
        "        print(\"Animal makes a sound\")\n",
        "\n",
        "class Dog(Animal):\n",
        "    def speak(self):\n",
        "        print(\"Bark!\")\n",
        "\n",
        "# Testing the classes\n",
        "animal = Animal()\n",
        "animal.speak()\n",
        "\n",
        "dog = Dog()\n",
        "dog.speak()"
      ],
      "metadata": {
        "colab": {
          "base_uri": "https://localhost:8080/"
        },
        "id": "k61Otm5i4dkf",
        "outputId": "1478f2aa-a68e-4bb8-eb25-a7d63e8aa2c3"
      },
      "execution_count": 22,
      "outputs": [
        {
          "output_type": "stream",
          "name": "stdout",
          "text": [
            "Animal makes a sound\n",
            "Bark!\n"
          ]
        }
      ]
    },
    {
      "cell_type": "markdown",
      "source": [
        "###**Question 2: Write a program to create an abstract class Shape with a method area(). Derive classes Circle and Rectangle from it and implement the area() method in both.**\n"
      ],
      "metadata": {
        "id": "opLwTN6mu0jz"
      }
    },
    {
      "cell_type": "code",
      "source": [
        "from abc import ABC, abstractmethod\n",
        "import math\n",
        "\n",
        "class Shape(ABC):\n",
        "    @abstractmethod\n",
        "    def area(self):\n",
        "        pass\n",
        "\n",
        "class Circle(Shape):\n",
        "    def __init__(self, radius):\n",
        "        self.radius = radius\n",
        "\n",
        "    def area(self):\n",
        "        return math.pi * self.radius ** 2\n",
        "\n",
        "class Rectangle(Shape):\n",
        "    def __init__(self, length, width):\n",
        "        self.length = length\n",
        "        self.width = width\n",
        "\n",
        "    def area(self):\n",
        "        return self.length * self.width\n",
        "\n",
        "# Testing the classes\n",
        "circle = Circle(5)\n",
        "print(f\"Circle area: {circle.area():.2f}\")\n",
        "\n",
        "rectangle = Rectangle(4, 6)\n",
        "print(f\"Rectangle area: {rectangle.area()}\")"
      ],
      "metadata": {
        "colab": {
          "base_uri": "https://localhost:8080/"
        },
        "id": "h9C24eZZuztq",
        "outputId": "8f2b8939-8ae3-4fd5-c08e-8d6d1fcf31eb"
      },
      "execution_count": 23,
      "outputs": [
        {
          "output_type": "stream",
          "name": "stdout",
          "text": [
            "Circle area: 78.54\n",
            "Rectangle area: 24\n"
          ]
        }
      ]
    },
    {
      "cell_type": "markdown",
      "source": [
        "###**Question 3: Implement a multi-level inheritance scenario where a class Vehicle has an attribute type. Derive a class Car and further derive a class ElectricCar that adds a battery attribute.**"
      ],
      "metadata": {
        "id": "72nzh6Wo4szA"
      }
    },
    {
      "cell_type": "code",
      "source": [
        "class Vehicle:\n",
        "    def __init__(self, type):\n",
        "        self.type = type\n",
        "\n",
        "    def get_type(self):\n",
        "        return f\"This is a {self.type} vehicle.\"\n",
        "\n",
        "class Car(Vehicle):\n",
        "    def __init__(self, brand, model):\n",
        "        super().__init__(\"passenger\")\n",
        "        self.brand = brand\n",
        "        self.model = model\n",
        "\n",
        "    def get_info(self):\n",
        "        return f\"{self.brand} {self.model}, {self.get_type()}\"\n",
        "\n",
        "class ElectricCar(Car):\n",
        "    def __init__(self, brand, model, battery_capacity):\n",
        "        super().__init__(brand, model)\n",
        "        self.battery_capacity = battery_capacity\n",
        "\n",
        "    def get_battery_info(self):\n",
        "        return f\"Battery capacity: {self.battery_capacity} kWh\"\n",
        "\n",
        "    def get_full_info(self):\n",
        "        return f\"{self.get_info()} {self.get_battery_info()}\"\n",
        "\n",
        "# Testing the classes\n",
        "tesla = ElectricCar(\"Tesla\", \"Model 3\", 75)\n",
        "print(tesla.get_full_info())\n"
      ],
      "metadata": {
        "colab": {
          "base_uri": "https://localhost:8080/"
        },
        "id": "bXZijQ5F4rcP",
        "outputId": "804251ba-269f-4be1-e489-48e556518309"
      },
      "execution_count": 24,
      "outputs": [
        {
          "output_type": "stream",
          "name": "stdout",
          "text": [
            "Tesla Model 3, This is a passenger vehicle. Battery capacity: 75 kWh\n"
          ]
        }
      ]
    },
    {
      "cell_type": "markdown",
      "source": [
        "###**Question 4: Demonstrate polymorphism by creating a base class Bird with a method fly(). Create two derived classes Sparrow and Penguin that override the fly() method.**"
      ],
      "metadata": {
        "id": "Ypcng0sM47I2"
      }
    },
    {
      "cell_type": "code",
      "source": [
        "class Bird:\n",
        "    def __init__(self, name):\n",
        "        self.name = name\n",
        "\n",
        "    def fly(self):\n",
        "        print(f\"{self.name} is flying.\")\n",
        "\n",
        "class Sparrow(Bird):\n",
        "    def fly(self):\n",
        "        print(f\"{self.name} is flying high and fast.\")\n",
        "\n",
        "class Penguin(Bird):\n",
        "    def fly(self):\n",
        "        print(f\"{self.name} cannot fly, but can swim.\")\n",
        "\n",
        "# Polymorphic function\n",
        "def let_bird_fly(bird):\n",
        "    bird.fly()\n",
        "\n",
        "# Testing polymorphism\n",
        "birds = [Bird(\"Generic Bird\"), Sparrow(\"Sparrow\"), Penguin(\"Penguin\")]\n",
        "\n",
        "for bird in birds:\n",
        "    let_bird_fly(bird)"
      ],
      "metadata": {
        "colab": {
          "base_uri": "https://localhost:8080/"
        },
        "id": "C_WY5XmL5B1D",
        "outputId": "4e28542b-7d1e-4ee2-8ccb-78357c6b6976"
      },
      "execution_count": 25,
      "outputs": [
        {
          "output_type": "stream",
          "name": "stdout",
          "text": [
            "Generic Bird is flying.\n",
            "Sparrow is flying high and fast.\n",
            "Penguin cannot fly, but can swim.\n"
          ]
        }
      ]
    },
    {
      "cell_type": "markdown",
      "source": [
        "###**Question 5: Write a program to demonstrate encapsulation by creating a class BankAccount with private attributes balance and methods to deposit, withdraw, and check balance.**"
      ],
      "metadata": {
        "id": "kgDGIB585FZx"
      }
    },
    {
      "cell_type": "code",
      "source": [
        "class BankAccount:\n",
        "    def __init__(self, account_number, initial_balance=0):\n",
        "        self.account_number = account_number\n",
        "        self.__balance = initial_balance  # Private attribute\n",
        "\n",
        "    def deposit(self, amount):\n",
        "        if amount > 0:\n",
        "            self.__balance += amount\n",
        "            return f\"Deposited ${amount}. New balance: ${self.__balance}\"\n",
        "        return \"Deposit amount must be positive.\"\n",
        "\n",
        "    def withdraw(self, amount):\n",
        "        if amount > 0:\n",
        "            if amount <= self.__balance:\n",
        "                self.__balance -= amount\n",
        "                return f\"Withdrew ${amount}. New balance: ${self.__balance}\"\n",
        "            return \"Insufficient funds.\"\n",
        "        return \"Withdrawal amount must be positive.\"\n",
        "\n",
        "    def check_balance(self):\n",
        "        return f\"Account {self.account_number} balance: ${self.__balance}\"\n",
        "\n",
        "# Testing the class\n",
        "account = BankAccount(\"12345\", 1000)\n",
        "print(account.check_balance())\n",
        "print(account.deposit(500))\n",
        "print(account.withdraw(200))\n",
        "print(account.check_balance())\n",
        "\n",
        "# Attempting to access private attribute directly will not work\n",
        "# print(account.__balance)  # This would raise an AttributeError"
      ],
      "metadata": {
        "colab": {
          "base_uri": "https://localhost:8080/"
        },
        "id": "tFzFpCu35IlO",
        "outputId": "ab3093ab-42c5-4900-ddd9-c355428b29c7"
      },
      "execution_count": 26,
      "outputs": [
        {
          "output_type": "stream",
          "name": "stdout",
          "text": [
            "Account 12345 balance: $1000\n",
            "Deposited $500. New balance: $1500\n",
            "Withdrew $200. New balance: $1300\n",
            "Account 12345 balance: $1300\n"
          ]
        }
      ]
    },
    {
      "cell_type": "markdown",
      "source": [
        "###**Question 6: Demonstrate runtime polymorphism using a method play() in a base class Instrument. Derive classes Guitar and Piano that implement their own version of play().**"
      ],
      "metadata": {
        "id": "XzWr8lA75TeV"
      }
    },
    {
      "cell_type": "code",
      "source": [
        "class Instrument:\n",
        "    def __init__(self, name):\n",
        "        self.name = name\n",
        "\n",
        "    def play(self):\n",
        "        print(f\"Playing the {self.name}\")\n",
        "\n",
        "class Guitar(Instrument):\n",
        "    def __init__(self):\n",
        "        super().__init__(\"Guitar\")\n",
        "\n",
        "    def play(self):\n",
        "        print(f\"Strumming the {self.name}\")\n",
        "\n",
        "class Piano(Instrument):\n",
        "    def __init__(self):\n",
        "        super().__init__(\"Piano\")\n",
        "\n",
        "    def play(self):\n",
        "        print(f\"Pressing keys on the {self.name}\")\n",
        "\n",
        "# Function that demonstrates polymorphism\n",
        "def musician_performance(instrument):\n",
        "    instrument.play()\n",
        "\n",
        "# Testing runtime polymorphism\n",
        "instruments = [Instrument(\"Drum\"), Guitar(), Piano()]\n",
        "\n",
        "for instrument in instruments:\n",
        "    musician_performance(instrument)\n"
      ],
      "metadata": {
        "colab": {
          "base_uri": "https://localhost:8080/"
        },
        "id": "KpfA68gG5RMN",
        "outputId": "d842bd93-178c-430b-d2af-4f316d852723"
      },
      "execution_count": 27,
      "outputs": [
        {
          "output_type": "stream",
          "name": "stdout",
          "text": [
            "Playing the Drum\n",
            "Strumming the Guitar\n",
            "Pressing keys on the Piano\n"
          ]
        }
      ]
    },
    {
      "cell_type": "markdown",
      "source": [
        "###**Question 7: Create a class MathOperations with a class method add_numbers() to add two numbers and a static method subtract_numbers() to subtract two numbers.**"
      ],
      "metadata": {
        "id": "PmMfG2475bOd"
      }
    },
    {
      "cell_type": "code",
      "source": [
        "class MathOperations:\n",
        "    @classmethod\n",
        "    def add_numbers(cls, a, b):\n",
        "        return a + b\n",
        "\n",
        "    @staticmethod\n",
        "    def subtract_numbers(a, b):\n",
        "        return a - b\n",
        "\n",
        "# Testing the class\n",
        "print(MathOperations.add_numbers(10, 5))\n",
        "print(MathOperations.subtract_numbers(10, 5))\n",
        "\n",
        "# Could also create an instance and call methods through it\n",
        "math_ops = MathOperations()\n",
        "print(math_ops.add_numbers(20, 10))\n",
        "print(math_ops.subtract_numbers(20, 10))"
      ],
      "metadata": {
        "colab": {
          "base_uri": "https://localhost:8080/"
        },
        "id": "584BKIBQ5qJB",
        "outputId": "eadbc81f-e7d9-49d3-e769-5e04cd80f345"
      },
      "execution_count": 28,
      "outputs": [
        {
          "output_type": "stream",
          "name": "stdout",
          "text": [
            "15\n",
            "5\n",
            "30\n",
            "10\n"
          ]
        }
      ]
    },
    {
      "cell_type": "markdown",
      "source": [
        "###**Question 8: Implement a class Person with a class method to count the total number of persons created.**\n"
      ],
      "metadata": {
        "id": "K1tDU2oS57wO"
      }
    },
    {
      "cell_type": "code",
      "source": [
        "class Person:\n",
        "    # Class variable to keep track of the count\n",
        "    count = 0\n",
        "\n",
        "    def __init__(self, name, age):\n",
        "        self.name = name\n",
        "        self.age = age\n",
        "        # Increment the count when a new person is created\n",
        "        Person.count += 1\n",
        "\n",
        "    @classmethod\n",
        "    def get_count(cls):\n",
        "        return cls.count\n",
        "\n",
        "    def get_info(self):\n",
        "        return f\"{self.name}, {self.age} years old\"\n",
        "\n",
        "# Testing the class\n",
        "person1 = Person(\"Prashant\", 25)\n",
        "person2 = Person(\"Sushant\", 30)\n",
        "person3 = Person(\"Naina\", 35)\n",
        "\n",
        "print(f\"Total persons created: {Person.get_count()}\")\n",
        "print(person1.get_info())\n",
        "print(person2.get_info())\n",
        "print(person3.get_info())"
      ],
      "metadata": {
        "colab": {
          "base_uri": "https://localhost:8080/"
        },
        "id": "o9UFZgyB5wxN",
        "outputId": "f40564d3-93ab-404c-9351-06105a772636"
      },
      "execution_count": 29,
      "outputs": [
        {
          "output_type": "stream",
          "name": "stdout",
          "text": [
            "Total persons created: 3\n",
            "Prashant, 25 years old\n",
            "Sushant, 30 years old\n",
            "Naina, 35 years old\n"
          ]
        }
      ]
    },
    {
      "cell_type": "markdown",
      "source": [
        "###**Question 9: Write a class Fraction with attributes numerator and denominator. Override the str method to display the fraction as \"numerator/denominator\".**"
      ],
      "metadata": {
        "id": "vMqmpSrR6OOG"
      }
    },
    {
      "cell_type": "code",
      "source": [
        "class Fraction:\n",
        "    def __init__(self, numerator, denominator):\n",
        "        if denominator == 0:\n",
        "            raise ValueError(\"Denominator cannot be zero\")\n",
        "        self.numerator = numerator\n",
        "        self.denominator = denominator\n",
        "\n",
        "    def __str__(self):\n",
        "        return f\"{self.numerator}/{self.denominator}\"\n",
        "\n",
        "# Testing the class\n",
        "fraction1 = Fraction(1, 4)\n",
        "fraction2 = Fraction(3, 5)\n",
        "\n",
        "print(fraction1)\n",
        "print(fraction2)"
      ],
      "metadata": {
        "colab": {
          "base_uri": "https://localhost:8080/"
        },
        "id": "lxFy0F1q6FVL",
        "outputId": "c5da598f-38e3-487e-e6ba-a6ff18274258"
      },
      "execution_count": 30,
      "outputs": [
        {
          "output_type": "stream",
          "name": "stdout",
          "text": [
            "1/4\n",
            "3/5\n"
          ]
        }
      ]
    },
    {
      "cell_type": "markdown",
      "source": [
        "###**Question 10: Demonstrate operator overloading by creating a class Vector and overriding the add method to add two vectors.**"
      ],
      "metadata": {
        "id": "bayf3boK6ZJR"
      }
    },
    {
      "cell_type": "code",
      "source": [
        "class Vector:\n",
        "    def __init__(self, x, y):\n",
        "        self.x = x\n",
        "        self.y = y\n",
        "\n",
        "    def __add__(self, other):\n",
        "        if isinstance(other, Vector):\n",
        "            return Vector(self.x + other.x, self.y + other.y)\n",
        "        raise TypeError(\"Can only add another Vector\")\n",
        "\n",
        "    def __str__(self):\n",
        "        return f\"({self.x}, {self.y})\"\n",
        "\n",
        "# Testing the class\n",
        "v1 = Vector(2, 3)\n",
        "v2 = Vector(5, 7)\n",
        "v3 = v1 + v2\n",
        "\n",
        "print(f\"Vector 1: {v1}\")\n",
        "print(f\"Vector 2: {v2}\")\n",
        "print(f\"Sum: {v3}\")"
      ],
      "metadata": {
        "colab": {
          "base_uri": "https://localhost:8080/"
        },
        "id": "D99UI8xQ6Skm",
        "outputId": "27151dbc-0fe9-4186-dc87-c633fd42c409"
      },
      "execution_count": 31,
      "outputs": [
        {
          "output_type": "stream",
          "name": "stdout",
          "text": [
            "Vector 1: (2, 3)\n",
            "Vector 2: (5, 7)\n",
            "Sum: (7, 10)\n"
          ]
        }
      ]
    },
    {
      "cell_type": "markdown",
      "source": [
        "###**Question 11: Create a class Person with attributes name and age. Add a method greet() that prints \"Hello, my name is {name} and I am {age} years old.\"**"
      ],
      "metadata": {
        "id": "7RoyF59p6mgL"
      }
    },
    {
      "cell_type": "code",
      "source": [
        "class Person:\n",
        "    def __init__(self, name, age):\n",
        "        self.name = name\n",
        "        self.age = age\n",
        "\n",
        "    def greet(self):\n",
        "        print(f\"Hello, my name is {self.name} and I am {self.age} years old.\")\n",
        "\n",
        "# Testing the class\n",
        "person = Person(\"Prashant\", 30)\n",
        "person.greet()"
      ],
      "metadata": {
        "colab": {
          "base_uri": "https://localhost:8080/"
        },
        "id": "8DvBB1xW6jUB",
        "outputId": "0c214545-ad25-4770-bdf7-5507cacf64e6"
      },
      "execution_count": 32,
      "outputs": [
        {
          "output_type": "stream",
          "name": "stdout",
          "text": [
            "Hello, my name is Prashant and I am 30 years old.\n"
          ]
        }
      ]
    },
    {
      "cell_type": "markdown",
      "source": [
        "###**Question 12: Implement a class Student with attributes name and grades. Create a method average_grade() to compute the average of the grades.**"
      ],
      "metadata": {
        "id": "ciL34Dxe6sJN"
      }
    },
    {
      "cell_type": "code",
      "source": [
        "class Student:\n",
        "    def __init__(self, name, grades):\n",
        "        self.name = name\n",
        "        self.grades = grades\n",
        "\n",
        "    def average_grade(self):\n",
        "        if not self.grades:\n",
        "            return 0\n",
        "        return sum(self.grades) / len(self.grades)\n",
        "\n",
        "    def display_info(self):\n",
        "        avg = self.average_grade()\n",
        "        return f\"{self.name}'s average grade: {avg:.2f}\"\n",
        "\n",
        "# Testing the class\n",
        "student1 = Student(\"Prasant\", [85, 90, 78, 92, 88])\n",
        "student2 = Student(\"Sushant\", [75, 80, 82, 88, 85])\n",
        "\n",
        "print(student1.display_info())\n",
        "print(student2.display_info())"
      ],
      "metadata": {
        "colab": {
          "base_uri": "https://localhost:8080/"
        },
        "id": "2rZMOQ8Q6qMV",
        "outputId": "38a4b833-6d0b-46e6-b014-1dd9a38e370e"
      },
      "execution_count": 33,
      "outputs": [
        {
          "output_type": "stream",
          "name": "stdout",
          "text": [
            "Prasant's average grade: 86.60\n",
            "Sushant's average grade: 82.00\n"
          ]
        }
      ]
    },
    {
      "cell_type": "markdown",
      "source": [
        "###**Question 13: Create a class Rectangle with methods set_dimensions() to set the dimensions and area() to calculate the area**"
      ],
      "metadata": {
        "id": "XJ4cD_f27POT"
      }
    },
    {
      "cell_type": "code",
      "source": [
        "class Rectangle:\n",
        "    def __init__(self):\n",
        "        self.length = 0\n",
        "        self.width = 0\n",
        "\n",
        "    def set_dimensions(self, length, width):\n",
        "        if length > 0 and width > 0:\n",
        "            self.length = length\n",
        "            self.width = width\n",
        "            return True\n",
        "        return False\n",
        "\n",
        "    def area(self):\n",
        "        return self.length * self.width\n",
        "\n",
        "    def display_info(self):\n",
        "        return f\"Rectangle: length={self.length}, width={self.width}, area={self.area()}\"\n",
        "\n",
        "# Testing the class\n",
        "rectangle = Rectangle()\n",
        "rectangle.set_dimensions(5, 3)\n",
        "print(rectangle.display_info())"
      ],
      "metadata": {
        "colab": {
          "base_uri": "https://localhost:8080/"
        },
        "id": "dNgu38tf7JNy",
        "outputId": "ecaa5c70-cfd3-4513-f5f7-d687df931deb"
      },
      "execution_count": 34,
      "outputs": [
        {
          "output_type": "stream",
          "name": "stdout",
          "text": [
            "Rectangle: length=5, width=3, area=15\n"
          ]
        }
      ]
    },
    {
      "cell_type": "markdown",
      "source": [
        "###**Question 14: Create a class Employee with a method calculate_salary() that computes the salary based on hours worked and hourly rate. Create a derived class Manager that adds a bonus to the salary**"
      ],
      "metadata": {
        "id": "imNJPtvB7ev8"
      }
    },
    {
      "cell_type": "code",
      "source": [
        "class Employee:\n",
        "    def __init__(self, name, hours_worked, hourly_rate):\n",
        "        self.name = name\n",
        "        self.hours_worked = hours_worked\n",
        "        self.hourly_rate = hourly_rate\n",
        "\n",
        "    def calculate_salary(self):\n",
        "        return self.hours_worked * self.hourly_rate\n",
        "\n",
        "    def display_info(self):\n",
        "        return f\"{self.name}'s salary: ${self.calculate_salary():.2f}\"\n",
        "\n",
        "class Manager(Employee):\n",
        "    def __init__(self, name, hours_worked, hourly_rate, bonus):\n",
        "        super().__init__(name, hours_worked, hourly_rate)\n",
        "        self.bonus = bonus\n",
        "\n",
        "    def calculate_salary(self):\n",
        "        base_salary = super().calculate_salary()\n",
        "        return base_salary + self.bonus\n",
        "\n",
        "    def display_info(self):\n",
        "        return f\"{self.name}'s salary with bonus: ${self.calculate_salary():.2f}\"\n",
        "\n",
        "# Testing the classes\n",
        "employee = Employee(\"prashant\", 40, 20)\n",
        "manager = Manager(\"Aman\", 40, 30, 500)\n",
        "\n",
        "print(employee.display_info())\n",
        "print(manager.display_info())"
      ],
      "metadata": {
        "colab": {
          "base_uri": "https://localhost:8080/"
        },
        "id": "HVWoAhrB7hEs",
        "outputId": "c5ae0425-1dd8-4c1e-b5ce-9f8ba2e19ff6"
      },
      "execution_count": 35,
      "outputs": [
        {
          "output_type": "stream",
          "name": "stdout",
          "text": [
            "prashant's salary: $800.00\n",
            "Aman's salary with bonus: $1700.00\n"
          ]
        }
      ]
    },
    {
      "cell_type": "markdown",
      "source": [
        "###**Question 15: Create a class Product with attributes name, price, and quantity. Implement a method total_price() that calculates the total price of the product.**"
      ],
      "metadata": {
        "id": "STodWek-7x-I"
      }
    },
    {
      "cell_type": "code",
      "source": [
        "class Product:\n",
        "    def __init__(self, name, price, quantity):\n",
        "        self.name = name\n",
        "        self.price = price\n",
        "        self.quantity = quantity\n",
        "\n",
        "    def total_price(self):\n",
        "        return self.price * self.quantity\n",
        "\n",
        "    def display_info(self):\n",
        "        return f\"Product: {self.name}, Price: ${self.price}, Quantity: {self.quantity}, Total: ${self.total_price()}\"\n",
        "\n",
        "# Testing the class\n",
        "product1 = Product(\"Laptop\", 999.99, 2)\n",
        "product2 = Product(\"Headphones\", 79.99, 5)\n",
        "\n",
        "print(product1.display_info())\n",
        "print(product2.display_info())"
      ],
      "metadata": {
        "colab": {
          "base_uri": "https://localhost:8080/"
        },
        "id": "YaTUwkqN7mop",
        "outputId": "193cbdcc-0f2e-4ef2-ef1c-b517a6544295"
      },
      "execution_count": 36,
      "outputs": [
        {
          "output_type": "stream",
          "name": "stdout",
          "text": [
            "Product: Laptop, Price: $999.99, Quantity: 2, Total: $1999.98\n",
            "Product: Headphones, Price: $79.99, Quantity: 5, Total: $399.95\n"
          ]
        }
      ]
    },
    {
      "cell_type": "markdown",
      "source": [
        "###**Question 16: Create a class Animal with an abstract method sound(). Create two derived classes Cow and Sheep that implement the sound() method.**"
      ],
      "metadata": {
        "id": "tlzOEKfS8C__"
      }
    },
    {
      "cell_type": "code",
      "source": [
        "from abc import ABC, abstractmethod\n",
        "\n",
        "class Animal(ABC):\n",
        "    def __init__(self, name):\n",
        "        self.name = name\n",
        "\n",
        "    @abstractmethod\n",
        "    def sound(self):\n",
        "        pass\n",
        "\n",
        "    def get_info(self):\n",
        "        return f\"{self.name} says {self.sound()}\"\n",
        "\n",
        "class Cow(Animal):\n",
        "    def sound(self):\n",
        "        return \"Moo!\"\n",
        "\n",
        "class Sheep(Animal):\n",
        "    def sound(self):\n",
        "        return \"Baa!\"\n",
        "\n",
        "# Testing the classes\n",
        "cow = Cow(\"Bessie\")\n",
        "sheep = Sheep(\"Woolly\")\n",
        "\n",
        "print(cow.get_info())\n",
        "print(sheep.get_info())\n",
        "\n",
        "# This will demonstrate that we can use polymorphism\n",
        "animals = [cow, sheep]\n",
        "for animal in animals:\n",
        "    print(animal.get_info())"
      ],
      "metadata": {
        "colab": {
          "base_uri": "https://localhost:8080/"
        },
        "id": "E3H72L498GSQ",
        "outputId": "a54bad5f-c4fc-46bf-cbdf-78155c2acf1a"
      },
      "execution_count": 37,
      "outputs": [
        {
          "output_type": "stream",
          "name": "stdout",
          "text": [
            "Bessie says Moo!\n",
            "Woolly says Baa!\n",
            "Bessie says Moo!\n",
            "Woolly says Baa!\n"
          ]
        }
      ]
    },
    {
      "cell_type": "markdown",
      "source": [
        "###**Question 17: Create a class Book with attributes title, author, and year_published. Add a method get_book_info() that returns a formatted string with the book's details.**"
      ],
      "metadata": {
        "id": "sOzpLqLm8bSP"
      }
    },
    {
      "cell_type": "code",
      "source": [
        "class Book:\n",
        "    def __init__(self, title, author, year_published):\n",
        "        self.title = title\n",
        "        self.author = author\n",
        "        self.year_published = year_published\n",
        "\n",
        "    def get_book_info(self):\n",
        "        return f\"'{self.title}' by {self.author} ({self.year_published})\"\n",
        "\n",
        "# Testing the class\n",
        "book1 = Book(\"To Kill a Mockingbird\", \"Harper Lee\", 1960)\n",
        "book2 = Book(\"1984\", \"George Orwell\", 1949)\n",
        "\n",
        "print(book1.get_book_info())\n",
        "print(book2.get_book_info())"
      ],
      "metadata": {
        "colab": {
          "base_uri": "https://localhost:8080/"
        },
        "id": "JW5JoAGH8Asd",
        "outputId": "b8f660f8-0653-4092-9b2c-f3390b5f4424"
      },
      "execution_count": 38,
      "outputs": [
        {
          "output_type": "stream",
          "name": "stdout",
          "text": [
            "'To Kill a Mockingbird' by Harper Lee (1960)\n",
            "'1984' by George Orwell (1949)\n"
          ]
        }
      ]
    },
    {
      "cell_type": "markdown",
      "source": [
        "###**Question 18: Create a class House with attributes address and price. Create a derived class Mansion that adds an attribute number_of_rooms.**"
      ],
      "metadata": {
        "id": "pwwPVC-V8oEy"
      }
    },
    {
      "cell_type": "code",
      "source": [
        "class House:\n",
        "    def __init__(self, address, price):\n",
        "        self.address = address\n",
        "        self.price = price\n",
        "\n",
        "    def get_info(self):\n",
        "        return f\"House at {self.address}, Price: ${self.price:,.2f}\"\n",
        "\n",
        "class Mansion(House):\n",
        "    def __init__(self, address, price, number_of_rooms):\n",
        "        super().__init__(address, price)\n",
        "        self.number_of_rooms = number_of_rooms\n",
        "\n",
        "    def get_info(self):\n",
        "        base_info = super().get_info()\n",
        "        return f\"{base_info}, Number of rooms: {self.number_of_rooms}\"\n",
        "\n",
        "# Testing the classes\n",
        "house = House(\"123 Main St\", 250000)\n",
        "mansion = Mansion(\"456 Luxury Ave\", 2500000, 15)\n",
        "\n",
        "print(house.get_info())\n",
        "print(mansion.get_info())"
      ],
      "metadata": {
        "colab": {
          "base_uri": "https://localhost:8080/"
        },
        "id": "BkZNrxSB8l49",
        "outputId": "3a280f9e-c871-41c0-9ab8-38a318987375"
      },
      "execution_count": 39,
      "outputs": [
        {
          "output_type": "stream",
          "name": "stdout",
          "text": [
            "House at 123 Main St, Price: $250,000.00\n",
            "House at 456 Luxury Ave, Price: $2,500,000.00, Number of rooms: 15\n"
          ]
        }
      ]
    },
    {
      "cell_type": "code",
      "source": [],
      "metadata": {
        "id": "GnbtGaut8vam"
      },
      "execution_count": 39,
      "outputs": []
    }
  ]
}